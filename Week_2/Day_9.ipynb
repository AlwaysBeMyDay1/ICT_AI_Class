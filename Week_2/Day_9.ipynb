{
 "cells": [
  {
   "cell_type": "markdown",
   "metadata": {},
   "source": [
    "### 2. 용어\n",
    "   #### 1) Feature, Label\n",
    "   feature는 label을 가지고 있다.\n",
    "\n",
    "   ML에 feature를 입력으로, 학습시키면 target 또는 label을 출력으로, 결과가 나온다.\n",
    "   \n",
    "   (feature를 바탕으로 계속 학습)\n",
    "\n",
    "\n",
    ">  ※ 지도학습 & 비지도학습\n",
    "   \n",
    "   - 지도학습 : feature에 label이 있어서 이를 바탕으로 학습\n",
    "  \n",
    "   - 비지도학습 : feature에 대한 label도 없음 (grouping으로 학습, 정확한 값보다는 어떤 group에 속하는지 알려줌)\n",
    "\n",
    "   #### 2) Bunch Class\n",
    "      속성\n",
    "- data (necessary) : 독립변수 ndarray 배열\n",
    "- target (necessary) : 종속변수 ndarray 배열\n",
    "- feature_names (option) : 독립 변수 이름 리스트\n",
    "- target_names (option) : 종속 변수 이름 리스트\n",
    "- DESCR (option) : 자료에 대한 설명 \n"
   ]
  },
  {
   "cell_type": "code",
   "execution_count": 1,
   "metadata": {},
   "outputs": [
    {
     "name": "stdout",
     "output_type": "stream",
     "text": [
      "<class 'sklearn.utils._bunch.Bunch'>\n",
      "['DESCR', 'data', 'data_module', 'feature_names', 'filename', 'frame', 'target', 'target_names']\n",
      "['sepal length (cm)', 'sepal width (cm)', 'petal length (cm)', 'petal width (cm)']\n",
      "<IPython.core.display.HTML object>\n"
     ]
    }
   ],
   "source": [
    "from sklearn.datasets import load_iris\n",
    "from IPython.display import HTML\n",
    "\n",
    "data = load_iris()\n",
    "\n",
    "print(type(data))\n",
    "print(dir(data))\n",
    "print(data.feature_names)\n",
    "\n",
    "print(HTML(data.DESCR.replace('\\n', '<br/')))"
   ]
  },
  {
   "cell_type": "code",
   "execution_count": 2,
   "metadata": {},
   "outputs": [
    {
     "name": "stdout",
     "output_type": "stream",
     "text": [
      "(1797, 8, 8)\n",
      "[0 1 2 ... 8 9 8]\n"
     ]
    },
    {
     "data": {
      "text/plain": [
       "<matplotlib.image.AxesImage at 0x7fe136652cd0>"
      ]
     },
     "execution_count": 2,
     "metadata": {},
     "output_type": "execute_result"
    },
    {
     "data": {
      "image/png": "[encoded data removed]",
      "text/plain": [
       "<Figure size 432x288 with 1 Axes>"
      ]
     },
     "metadata": {
      "needs_background": "light"
     },
     "output_type": "display_data"
    }
   ],
   "source": [
    "import matplotlib.pyplot as plt\n",
    "from sklearn import datasets\n",
    "\n",
    "digits = datasets.load_digits()\n",
    "\n",
    "print(digits.images.shape)\n",
    "print(digits.target)\n",
    "plt.imshow(digits.images[-1], cmap=plt.cm.gray_r)"
   ]
  },
  {
   "cell_type": "markdown",
   "metadata": {},
   "source": [
    "#### 외부에서 데이터 가져오기"
   ]
  },
  {
   "cell_type": "code",
   "execution_count": 3,
   "metadata": {},
   "outputs": [
    {
     "ename": "ModuleNotFoundError",
     "evalue": "No module named 'pandas'",
     "output_type": "error",
     "traceback": [
      "\u001b[0;31m---------------------------------------------------------------------------\u001b[0m",
      "\u001b[0;31mModuleNotFoundError\u001b[0m                       Traceback (most recent call last)",
      "\u001b[1;32m/Users/emilynan/Desktop/Daeyeon/ICT_AI_Class/Week_2/Day_9.ipynb Cell 5'\u001b[0m in \u001b[0;36m<cell line: 4>\u001b[0;34m()\u001b[0m\n\u001b[1;32m      <a href='vscode-notebook-cell:/Users/emilynan/Desktop/Daeyeon/ICT_AI_Class/Week_2/Day_9.ipynb#ch0000004?line=0'>1</a>\u001b[0m \u001b[39mimport\u001b[39;00m \u001b[39mos\u001b[39;00m\n\u001b[1;32m      <a href='vscode-notebook-cell:/Users/emilynan/Desktop/Daeyeon/ICT_AI_Class/Week_2/Day_9.ipynb#ch0000004?line=1'>2</a>\u001b[0m \u001b[39mimport\u001b[39;00m \u001b[39mtarfile\u001b[39;00m\n\u001b[0;32m----> <a href='vscode-notebook-cell:/Users/emilynan/Desktop/Daeyeon/ICT_AI_Class/Week_2/Day_9.ipynb#ch0000004?line=3'>4</a>\u001b[0m \u001b[39mimport\u001b[39;00m \u001b[39mpandas\u001b[39;00m \u001b[39mas\u001b[39;00m \u001b[39mpd\u001b[39;00m\n\u001b[1;32m      <a href='vscode-notebook-cell:/Users/emilynan/Desktop/Daeyeon/ICT_AI_Class/Week_2/Day_9.ipynb#ch0000004?line=4'>5</a>\u001b[0m \u001b[39mfrom\u001b[39;00m \u001b[39msix\u001b[39;00m\u001b[39m.\u001b[39;00m\u001b[39mmoves\u001b[39;00m \u001b[39mimport\u001b[39;00m urllib\n\u001b[1;32m      <a href='vscode-notebook-cell:/Users/emilynan/Desktop/Daeyeon/ICT_AI_Class/Week_2/Day_9.ipynb#ch0000004?line=6'>7</a>\u001b[0m DOWNLOAD_ROOT \u001b[39m=\u001b[39m \u001b[39m\"\u001b[39m\u001b[39mhttps://raw.githubusercontent.com/ageron/handsonml/master/\u001b[39m\u001b[39m\"\u001b[39m\n",
      "\u001b[0;31mModuleNotFoundError\u001b[0m: No module named 'pandas'"
     ]
    }
   ],
   "source": [
    "import os\n",
    "import tarfile\n",
    "\n",
    "import pandas as pd\n",
    "from six.moves import urllib\n",
    "\n",
    "DOWNLOAD_ROOT = \"https://raw.githubusercontent.com/ageron/handsonml/master/\"\n",
    "HOUSING_PATH = os.path.join(\"datasets\", \"housing\")\n",
    "HOUSING_URL = DOWNLOAD_ROOT + \"datasets/housing/housing.tgz\"\n",
    "\n",
    "def fetch_housing_data(housing_url=HOUSING_URL,housing_path=HOUSING_PATH):\n",
    "    if not os.path.isdir(housing_path):\n",
    "        os.makedirs(housing_path)\n",
    "    tgz_path = os.path.join(housing_path, \"housing.tgz\")\n",
    "    urllib.request.urlretrieve(housing_url, tgz_path)\n",
    "    housing_tgz = tarfile.open(tgz_path)\n",
    "    housing_tgz.extractall(path=housing_path)\n",
    "    housing_tgz.close()\n",
    "\n",
    "\n",
    "def load_housing_data(housing_path=HOUSING_PATH):\n",
    "    csv_path = os.path.join(housing_path, \"housing.csv\")\n",
    "    return pd.read_csv(csv_path)\n",
    "\n",
    "fetch_housing_data()\n",
    "\n",
    "housing = load_housing_data()\n",
    "housing.head()\n",
    "housing.info()\n",
    "housing[\"ocean_proximity\"].value_counts()\n",
    "housing.describe()"
   ]
  },
  {
   "cell_type": "markdown",
   "metadata": {},
   "source": [
    "### 3. 데이터 전처리\n",
    "#### 1) 정의\n",
    "현실에서 가져오는 raw 데이터의 품질을 보완하는 작업들\n",
    "#### 2) 주요 작업\n",
    "- 데이터 정제\n",
    "    \n",
    "    결측값(missing value)을 채우거나, 잡음값(noisy data)을 평활화(smoothing), 이상치(outlier) 발견하여 제거, 불일치 해결\n",
    "\n",
    "- 데이터 통합\n",
    "\n",
    "    다수의 소스에서 얻은 데이터를 합쳐서 표현\n",
    "\n",
    "- 축소\n",
    " \n",
    "    크기는 작지만 분석 결과는 동일한 데이터로 표현\n",
    "\n",
    "- 변환\n",
    "\n",
    "    기계학습 알고리즘의 효율성을 극대화하기 위한 변형\n",
    "#### 3) 표준화\n",
    "자료에 선형 변환을 적용해 전체 자료를 평균 0, 분산 1이 되도록 만드는 과정\n",
    "\n",
    "자료의 overflow나 underflow를 방지하기 위해 만듦\n",
    "\n",
    "> 관련 함수\n",
    "  - scale(x)\n",
    "    \n",
    "    표준 정규 분포 스케일\n",
    "  - robust_scale(x)\n",
    "  - minmax_scale(x)\n",
    "  - maxabs_scale(x)\n",
    "#### 4) 정규화\n",
    "개별 데이터의 크기를 모두 같게 만들기 위한 변환\n",
    "\n",
    "다차원 독립변수 벡터가 있을 대, 각 벡터 원소들의 상대적인 크기만 중요한 경우에 사용\n",
    "\n",
    "ex. 크기가 다른 나이 데이터셋(0~100)과 수입(0~1000000000,,,)의 데이터셋의 비교를 가능하게 만듦\n",
    "#### 5) 사용자 정의 변환\n",
    "\n",
    "\n"
   ]
  },
  {
   "cell_type": "markdown",
   "metadata": {},
   "source": [
    "### 머신러닝과 통계학과의 관계\n",
    "• 데이터를 수집하고 분석해 컴퓨터에게 학습 시키는 과정\n",
    "\n",
    "• 새로운 입력값에 대해 결과를 예측하는 과정에 확률 이론을 활용\n",
    "#### 기계학습에서 통계적인 방법\n",
    "• 상관관계분석\n",
    "\n",
    "• 회귀분석\n",
    "\n",
    "• 확률분석"
   ]
  },
  {
   "cell_type": "markdown",
   "metadata": {},
   "source": [
    "#### 상관분석\n",
    "• 두 변수간의 관계의 강도(얼마나 밀접하게 유지되어 있는 지)를 분석하는 것\n",
    "##### 상관계수(correlation coefficient) r\n",
    "• 상관계수 r의 범위 : -1 ≤ r ≤ 1\n",
    "• Pearson’s correlation을 주로 사용\n",
    "- Pandas의 corr()함수\n",
    "- 수식\n",
    "        측정값(x, y)에 대하여 n개의 측정값 (x1, y1),(x2,y2),…(xn, yn) 이 주어졌을 때\n",
    "        (𝑥ҧ, 𝑦ത: 각각 x, y의 평균 값\n",
    "        𝑆𝑥 , 𝑆𝑦 ∶ 각각 x, y의 표준편차)\n",
    "        \n",
    "        𝑟 = sigmaNi=1 (𝑥𝑖−𝑥ҧ)(𝑦𝑖−𝑦ത) / (𝑛−1)𝑆𝑥𝑆𝑦\n",
    "\n",
    "⬇️ 위 상관계수 r의 수식을 코드로 표현"
   ]
  },
  {
   "cell_type": "code",
   "execution_count": null,
   "metadata": {},
   "outputs": [],
   "source": [
    "from numpy import mean\n",
    "from numpy import std\n",
    "from numpy.random import randn\n",
    "from numpy.random import seed\n",
    "from matplotlib import pyplot\n",
    "\n",
    "# seed random num generator"
   ]
  },
  {
   "cell_type": "markdown",
   "metadata": {},
   "source": []
  }
 ],
 "metadata": {
  "kernelspec": {
   "display_name": "Python 3.8.9 ('venv': venv)",
   "language": "python",
   "name": "python3"
  },
  "language_info": {
   "codemirror_mode": {
    "name": "ipython",
    "version": 3
   },
   "file_extension": ".py",
   "mimetype": "text/x-python",
   "name": "python",
   "nbconvert_exporter": "python",
   "pygments_lexer": "ipython3",
   "version": "3.8.9"
  },
  "orig_nbformat": 4,
  "vscode": {
   "interpreter": {
    "hash": "5ad2f0aac427d811f6da6c9394379851faf4e41bd85a9551b3e3a281e7f1b52f"
   }
  }
 },
 "nbformat": 4,
 "nbformat_minor": 2
}
