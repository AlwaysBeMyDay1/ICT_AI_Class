{
 "cells": [
  {
   "cell_type": "markdown",
   "metadata": {},
   "source": [
    "### 1. 모듈\n",
    "다른 언어들의 라이브러리와 동일한 개념, 코드를 분리하고 공유하는 기능\n",
    "#### 표준 모듈\n",
    "파이썬에 기본적으로 내장된 모듈\n",
    "#### 외부 모듈\n",
    "사람들이 만들어 공개한 모듈"
   ]
  },
  {
   "cell_type": "markdown",
   "metadata": {},
   "source": [
    "### 2. 표준 모듈\n",
    "#### math 모듈"
   ]
  },
  {
   "cell_type": "code",
   "execution_count": 16,
   "metadata": {},
   "outputs": [
    {
     "name": "stdout",
     "output_type": "stream",
     "text": [
      "0.8414709848078965\n",
      "0.5403023058681398\n",
      "1.557407724654902\n",
      "2\n",
      "3\n"
     ]
    }
   ],
   "source": [
    "import math\n",
    "\n",
    "print(math.sin(1))\n",
    "print(math.cos(1))\n",
    "print(math.tan(1))\n",
    "print(math.floor(2.5))\n",
    "print(math.ceil(2.5))"
   ]
  },
  {
   "cell_type": "markdown",
   "metadata": {},
   "source": [
    "#### random 모듈"
   ]
  },
  {
   "cell_type": "code",
   "execution_count": 17,
   "metadata": {},
   "outputs": [
    {
     "name": "stdout",
     "output_type": "stream",
     "text": [
      "0.46164929479943884\n",
      "18.815048560458102\n",
      "0\n",
      "11\n",
      "1\n",
      "None\n",
      "[5, 2]\n"
     ]
    }
   ],
   "source": [
    "import random\n",
    "\n",
    "# random() // 0.0 <= x < 1.0 사이의 float을 리턴\n",
    "print(random.random())\n",
    "\n",
    "# uniform(min, max) // 지정한 범위 사이의 float을 리턴\n",
    "print(random.uniform(10, 20))\n",
    "\n",
    "# randrange // 지정한 범위의 int를 리턴\n",
    "print(random.randrange(10))\n",
    "print(random.randrange(10, 20))\n",
    "\n",
    "sample_list = [1,2,3,4,5]\n",
    "\n",
    "# choice(list) // 리스트 내부에 있는 요소를 랜덤하게 선택\n",
    "print(random.choice(sample_list))\n",
    "\n",
    "# shuffle(list) // 리스트 요소들을 랜덤하게 섞음\n",
    "print(random.shuffle(sample_list))\n",
    "\n",
    "# sample(list, k=<num>) // 리스트의 요소 중 k개 뽑음\n",
    "print(random.sample(sample_list, k=2))\n",
    "\n"
   ]
  },
  {
   "cell_type": "markdown",
   "metadata": {},
   "source": [
    "#### sys 모듈\n",
    "시스템과 관련된 정보를 가진 모듈    "
   ]
  },
  {
   "cell_type": "code",
   "execution_count": 18,
   "metadata": {},
   "outputs": [
    {
     "name": "stdout",
     "output_type": "stream",
     "text": [
      "['/Users/emilynan/Desktop/Daeyeon/ICT_AI_Class/venv/lib/python3.8/site-packages/ipykernel_launcher.py', '--ip=127.0.0.1', '--stdin=9003', '--control=9001', '--hb=9000', '--Session.signature_scheme=\"hmac-sha256\"', '--Session.key=b\"524c791d-ff35-4dd3-be03-0d8afa767ee9\"', '--shell=9002', '--transport=\"tcp\"', '--iopub=9004', '--f=/Users/emilynan/Library/Jupyter/runtime/kernel-v2-153355smzP8A469cu.json']\n",
      "Copyright (c) 2001-2021 Python Software Foundation.\n",
      "All Rights Reserved.\n",
      "\n",
      "Copyright (c) 2000 BeOpen.com.\n",
      "All Rights Reserved.\n",
      "\n",
      "Copyright (c) 1995-2001 Corporation for National Research Initiatives.\n",
      "All Rights Reserved.\n",
      "\n",
      "Copyright (c) 1991-1995 Stichting Mathematisch Centrum, Amsterdam.\n",
      "All Rights Reserved.\n",
      "3.8.9 (v3.8.9:a743f8192b, Apr  2 2021, 08:12:53) \n",
      "[Clang 6.0 (clang-600.0.57)]\n"
     ]
    }
   ],
   "source": [
    "import sys\n",
    "\n",
    "# 명령 매개변수 출력\n",
    "print(sys.argv)\n",
    "\n",
    "# 컴퓨터 환경과 관련된 정보 출력\n",
    "print(sys.copyright)\n",
    "print(sys.version)\n",
    "\n",
    "# sys.exit()"
   ]
  },
  {
   "cell_type": "markdown",
   "metadata": {},
   "source": [
    "#### os 모듈\n",
    "운영체제와 관련된 기능을 가진 모듈\n",
    "새로운 폴더 만들거나 폴더 내부 파일 목록 볼 때 사용"
   ]
  },
  {
   "cell_type": "code",
   "execution_count": 19,
   "metadata": {},
   "outputs": [
    {
     "name": "stdout",
     "output_type": "stream",
     "text": [
      "posix\n",
      "/Users/emilynan/Desktop/Daeyeon/ICT_AI_Class/Week_2\n",
      "['Day_6.ipynb']\n",
      "Day_6.ipynb\n"
     ]
    },
    {
     "data": {
      "text/plain": [
       "0"
      ]
     },
     "execution_count": 19,
     "metadata": {},
     "output_type": "execute_result"
    }
   ],
   "source": [
    "import os\n",
    "\n",
    "print(os.name)\n",
    "print(os.getcwd())\n",
    "print(os.listdir())\n",
    "\n",
    "# dir 생성 및 제거(비어있을 때만 제거 가능)\n",
    "os.mkdir(\"hello\")\n",
    "os.rmdir(\"hello\")\n",
    "\n",
    "# 파일 생성, 파일 이름 변경\n",
    "with open(\"original.txt\", \"w\") as file:\n",
    "    file.write(\"hello\")\n",
    "os.rename(\"original.txt\", \"new.txt\")\n",
    "\n",
    "# file 제거\n",
    "os.remove(\"new.txt\")\n",
    "\n",
    "os.system(\"ls\")"
   ]
  },
  {
   "cell_type": "markdown",
   "metadata": {},
   "source": [
    "#### datetime 모듈\n",
    "date(날짜) 및 time(시간)과 관련된 모듈로,\n",
    "날짜 형식 만들 때 자주 사용되는 코드들로 구성\n",
    "\n",
    "\n",
    "#### time 모듈\n",
    "시간과 관련된 기능\n",
    "\n",
    "\n",
    "#### urllib 모듈\n",
    "url 다루는 라이브러리"
   ]
  },
  {
   "cell_type": "markdown",
   "metadata": {},
   "source": [
    "### 3. 외부 모듈\n",
    "pip (python install package) 사용\n",
    "\n",
    "ex.\n",
    "BeautifulSoup module\n",
    "Django module\n",
    "Flask module"
   ]
  },
  {
   "cell_type": "markdown",
   "metadata": {},
   "source": [
    "> library\n",
    "\n",
    "정상적인 제어를 하는 모듈\n",
    "\n",
    "개발자가 모듈 기능을 호출하는 형태의 모듈\n",
    "\n",
    "\n",
    "> framework\n",
    "\n",
    "제어 역전이 발생하는 모듈\n",
    "\n",
    "(제어 역전/IoC : Invasion of Control의 약자로, 개발자가 만든 함수를 모듈이 실행하는 형태의, 일반적인 경우와 반대인 제어 흐름)\n",
    "\n",
    "내부에 함수만 정의하고 직접적으로 무언가 실행하는 코드는 없음\n",
    "\n",
    "즉, 모듈이 개발자가 작성한 코드를 실행하는 형태의 모듈"
   ]
  },
  {
   "cell_type": "markdown",
   "metadata": {},
   "source": [
    "### 4. 모듈 만들기\n",
    "##### 1) \\_\\_name\\_\\_\n",
    "- 엔트리 포인트 / 메인\n",
    "  \n",
    "    프로그램의 진입점, main 내부에서의 \\_\\_name\\_\\_은 \"\\_\\_main\\_\\_\"\\\n",
    "\n",
    "- 모듈의 \\_\\_name\\_\\_\n",
    "  \n",
    "    엔트리 포인트는 아니지만 엔트리 포인트 파일 내에서 import 되었기 때문에 모듈 내 코드가 실행\n",
    "    \n",
    "    모듈 내부에서는 \\_\\_name\\_\\_출력하면 모듈의 이름이 나타남.\n",
    "\n",
    "➡️ 직접 실행시키면 \\_\\_name\\_\\_ == \\_\\_main\\_\\_,\n",
    "\n",
    "모듈로 import해 사용하면 \\_\\_name\\_\\_ == <modul_name>"
   ]
  },
  {
   "cell_type": "markdown",
   "metadata": {},
   "source": [
    "#### 2) 패키지\n",
    "모듈이 모여서 구조를 이루면 패키지\n",
    "##### ㄱ. \\_\\_init\\_\\_.py\n",
    "패키지 읽을 때 어떤 처리를 수행해야 하거나 패키지 내부의 모듈들을 한꺼번에 가져오고 싶을 때 사용\n",
    "\n",
    "패키지를 읽어들일 때는 \\_\\_init\\_\\_.py를 가장 먼저 실행\n",
    "\n",
    "패키지와 관련된 초기화 처리 등을 할 수 있음."
   ]
  }
 ],
 "metadata": {
  "kernelspec": {
   "display_name": "Python 3.8.9 ('venv': venv)",
   "language": "python",
   "name": "python3"
  },
  "language_info": {
   "codemirror_mode": {
    "name": "ipython",
    "version": 3
   },
   "file_extension": ".py",
   "mimetype": "text/x-python",
   "name": "python",
   "nbconvert_exporter": "python",
   "pygments_lexer": "ipython3",
   "version": "3.8.9"
  },
  "orig_nbformat": 4,
  "vscode": {
   "interpreter": {
    "hash": "5ad2f0aac427d811f6da6c9394379851faf4e41bd85a9551b3e3a281e7f1b52f"
   }
  }
 },
 "nbformat": 4,
 "nbformat_minor": 2
}
