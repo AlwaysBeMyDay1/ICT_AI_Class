{
 "cells": [
  {
   "cell_type": "markdown",
   "metadata": {},
   "source": [
    "##### 텍스트 데이터\n",
    "우리가 쉽게 읽을 수 있는 형태의 데이터 (컴퓨터는 이진으로 처리)\n",
    "\n",
    "\n",
    "##### 바이너리 데이터\n",
    "텍스트 에디터로 열었을 때 의미를 이해할 수 없는 데이터\n",
    "\n",
    "ex. 이미지, 영상 ,,\n",
    "\n",
    "file wirte, read 모드에서\n",
    "\n",
    "이미지나 영상을 저장할 때에는 뒤에 b 붙이기\n",
    "> 예시\n",
    "```\n",
    "    from urllib import request\n",
    "\n",
    "    target = request.urlopen(\"http://www.hanbit.co.kr/images/common/logo_hanbit.png\")\n",
    "    output = target.read()\n",
    "\n",
    "    file = open(\"output.png\", \"wb\")\n",
    "    file.write(output)\n",
    "    file.close()\n",
    "```"
   ]
  },
  {
   "cell_type": "markdown",
   "metadata": {},
   "source": [
    "## 클래스\n",
    "#### 1. 용어\n",
    "- 객체\n",
    "\n",
    "    속성을 가질 수 있는 모든 것을 의미\n",
    "\n",
    "- 추상화\n",
    "\n",
    "    복잡한 자료, 모듈, 시스템 등으로부터 핵심적인 개념 또는 기능을 간추려 내는 것\n",
    "\n",
    "- 클래스\n",
    "\n",
    "    객체를 쉽고 편리하게 생성하기 위해 만들어진 구문\n",
    "\n",
    "- 인스턴스\n",
    "\n",
    "    클래스를 기반으로 생성한 객체\n",
    "\n",
    "- 생성자\n",
    "\n",
    "    클래스 이름과 같은 인스턴스를 생성할 때 만드는 함수\n",
    "\n",
    "- 메소드\n",
    "\n",
    "    클래스가 가진 함수\n",
    "\n",
    "- 상속\n",
    "\n",
    "    어떤 클래스를 기반으로 그 속성과 기능을 물려받아 새로운 클래스를 만드는 것"
   ]
  },
  {
   "cell_type": "markdown",
   "metadata": {},
   "source": [
    "#### 2. isinstance()\n",
    "```\n",
    "isinstance(인스턴스, 클래스)\n",
    "```\n",
    "객체가 어떤 클래스로부터 만들어졌는지 확인\n",
    "\n",
    "> 활용법\n",
    "\n",
    "여러 종류의 인스턴스가 있을 때, 인스턴스들을 구분하며 속성과 기능 사용\n",
    "\n",
    "⬇️ 예시"
   ]
  },
  {
   "cell_type": "code",
   "execution_count": 1,
   "metadata": {},
   "outputs": [
    {
     "name": "stdout",
     "output_type": "stream",
     "text": [
      "공부를 합니다.\n",
      "공부를 합니다.\n",
      "공부를 합니다.\n",
      "공부를 합니다.\n",
      "학생을 가르칩니다\n"
     ]
    }
   ],
   "source": [
    "class Student:\n",
    "    def study(self):\n",
    "        print(\"공부를 합니다.\")\n",
    "\n",
    "class Teacher:\n",
    "    def teach(self):\n",
    "        print(\"학생을 가르칩니다\")\n",
    "\n",
    "classroom = [Student(), Student(), Student(), Student(), Teacher()]\n",
    "\n",
    "for person in classroom:\n",
    "    if isinstance(person, Student):\n",
    "        person.study()\n",
    "    elif isinstance(person, Teacher):\n",
    "        person.teach()"
   ]
  },
  {
   "cell_type": "markdown",
   "metadata": {},
   "source": [
    "#### 3. 특수한 이름의 메소드\n",
    "##### \\_\\_<이름>\\_\\_(self) 형태\n",
    "함수에는 변수를 인자로 전달해야 하는데,\n",
    "\n",
    "인스턴스를 대상으로 연산을 하고 싶을 때에는,\n",
    "\n",
    "\\_\\_<이름>\\_\\_의 형식으로 메소드 만듦\n",
    "\n",
    "⬇️ 예시 \\_\\_str\\_\\_()"
   ]
  },
  {
   "cell_type": "markdown",
   "metadata": {},
   "source": []
  }
 ],
 "metadata": {
  "kernelspec": {
   "display_name": "Python 3.8.9 ('venv': venv)",
   "language": "python",
   "name": "python3"
  },
  "language_info": {
   "codemirror_mode": {
    "name": "ipython",
    "version": 3
   },
   "file_extension": ".py",
   "mimetype": "text/x-python",
   "name": "python",
   "nbconvert_exporter": "python",
   "pygments_lexer": "ipython3",
   "version": "3.8.9"
  },
  "orig_nbformat": 4,
  "vscode": {
   "interpreter": {
    "hash": "5ad2f0aac427d811f6da6c9394379851faf4e41bd85a9551b3e3a281e7f1b52f"
   }
  }
 },
 "nbformat": 4,
 "nbformat_minor": 2
}
