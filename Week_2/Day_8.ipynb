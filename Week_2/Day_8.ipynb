{
 "cells": [
  {
   "cell_type": "markdown",
   "metadata": {},
   "source": [
    "## 클래스\n",
    "#### 클래스 변수\n",
    "클래스가 가진 변수\n",
    "#### 클래스 함수\n",
    "클래스가 가진 함수\n",
    "\n",
    "※ 데코레이터 : @classmethod\n",
    "\n",
    "> 예시\n",
    "```\n",
    "    class 클래스 이름 :\n",
    "        @ classmethod\n",
    "        def 클래스 함수(cls, 매개변수):\n",
    "            pass\n",
    "```"
   ]
  },
  {
   "cell_type": "code",
   "execution_count": 11,
   "metadata": {},
   "outputs": [
    {
     "name": "stdout",
     "output_type": "stream",
     "text": [
      "------ 학생 목록 ------\n",
      "이름\t총점\t평균\n",
      "윤인성\t368\t92.0\n",
      "연하진\t226\t56.5\n",
      "구지연\t197\t49.25\n",
      "나선주\t332\t83.0\n",
      "윤아인\t203\t50.75\n",
      "윤명월\t272\t68.0\n",
      "---------------------\n"
     ]
    }
   ],
   "source": [
    "class Student:\n",
    "    # 클래스 변수\n",
    "    count = 0\n",
    "    students = []\n",
    "\n",
    "    @classmethod\n",
    "    def print(cls):\n",
    "        print(\"------ 학생 목록 ------\")\n",
    "        print(\"이름\\t총점\\t평균\")\n",
    "        for student in cls.students:\n",
    "            print(str(student))\n",
    "        print(\"---------------------\")\n",
    "    \n",
    "    # 인스턴스 함수\n",
    "    def __init__(self, name, korean, math, english, science):\n",
    "        self.name = name\n",
    "        self.korean = korean\n",
    "        self.math = math\n",
    "        self.english = english\n",
    "        self.science = science\n",
    "        Student.count += 1\n",
    "        Student.students.append(self)\n",
    "\n",
    "    def get_sum(self):\n",
    "        return self.korean + self.math + self.english + self.science\n",
    "    \n",
    "    def get_average(self):\n",
    "        return self.get_sum() / 4\n",
    "    \n",
    "    def __str__(self):\n",
    "        return f\"{self.name}\\t{self.get_sum()}\\t{self.get_average()}\"\n",
    "\n",
    "Student(\"윤인성\", 87, 98, 88, 95)\n",
    "Student(\"연하진\", 84, 28, 29, 85)\n",
    "Student(\"구지연\", 47, 58, 37, 55)\n",
    "Student(\"나선주\", 77, 95, 68, 92)\n",
    "Student(\"윤아인\", 27, 42, 92, 42)\n",
    "Student(\"윤명월\", 67, 92, 55, 58)\n",
    "\n",
    "Student.print()"
   ]
  },
  {
   "cell_type": "markdown",
   "metadata": {},
   "source": [
    "#### 가비지 컬렉터\n",
    "더 사용할 가능성이 없는 데이터를 메모리에서 제거하는 역할"
   ]
  },
  {
   "cell_type": "code",
   "execution_count": 12,
   "metadata": {},
   "outputs": [
    {
     "name": "stdout",
     "output_type": "stream",
     "text": [
      "ex. 변수에 저장하지 않은 경우\n",
      "A - 생성되었습니다.\n",
      "A - 파괴되었습니다.\n",
      "B - 생성되었습니다.\n",
      "B - 파괴되었습니다.\n",
      "C - 생성되었습니다.\n",
      "C - 파괴되었습니다.\n",
      "\n",
      "ex. 변수에 저장한 경우\n",
      "A - 생성되었습니다.\n",
      "A - 파괴되었습니다.\n",
      "B - 생성되었습니다.\n",
      "B - 파괴되었습니다.\n",
      "C - 생성되었습니다.\n",
      "C - 파괴되었습니다.\n"
     ]
    }
   ],
   "source": [
    "class Test:\n",
    "    def __init__(self, name):\n",
    "        self.name = name\n",
    "        print(f\"{self.name} - 생성되었습니다.\")\n",
    "    def __del__(self):\n",
    "        print(f\"{self.name} - 파괴되었습니다.\")\n",
    "\n",
    "print(\"ex. 변수에 저장하지 않은 경우\")\n",
    "Test(\"A\")\n",
    "Test(\"B\")\n",
    "Test(\"C\")\n",
    "print()\n",
    "print(\"ex. 변수에 저장한 경우\")\n",
    "a = Test(\"A\")\n",
    "b = Test(\"B\")\n",
    "c = Test(\"C\")"
   ]
  },
  {
   "cell_type": "markdown",
   "metadata": {},
   "source": [
    "#### 프라이빗 변수\n",
    "변수를 마음대로 사용하는 것 방지\n",
    "\n",
    "\\_\\_<변수 이름> 형태로 인스턴스 변수 이름 선언"
   ]
  },
  {
   "cell_type": "code",
   "execution_count": 13,
   "metadata": {},
   "outputs": [
    {
     "name": "stdout",
     "output_type": "stream",
     "text": [
      "62.83185307179586 314.1592653589793\n"
     ]
    },
    {
     "ename": "AttributeError",
     "evalue": "'Circle' object has no attribute '__radius'",
     "output_type": "error",
     "traceback": [
      "\u001b[0;31m---------------------------------------------------------------------------\u001b[0m",
      "\u001b[0;31mAttributeError\u001b[0m                            Traceback (most recent call last)",
      "\u001b[1;32m/Users/emilynan/Desktop/Daeyeon/ICT_AI_Class/Week_2/Day_8.ipynb Cell 6'\u001b[0m in \u001b[0;36m<cell line: 16>\u001b[0;34m()\u001b[0m\n\u001b[1;32m     <a href='vscode-notebook-cell:/Users/emilynan/Desktop/Daeyeon/ICT_AI_Class/Week_2/Day_8.ipynb#ch0000008?line=12'>13</a>\u001b[0m circle \u001b[39m=\u001b[39m Circle(\u001b[39m10\u001b[39m)\n\u001b[1;32m     <a href='vscode-notebook-cell:/Users/emilynan/Desktop/Daeyeon/ICT_AI_Class/Week_2/Day_8.ipynb#ch0000008?line=13'>14</a>\u001b[0m \u001b[39mprint\u001b[39m(circle\u001b[39m.\u001b[39mget_circumference(), circle\u001b[39m.\u001b[39mget_area())\n\u001b[0;32m---> <a href='vscode-notebook-cell:/Users/emilynan/Desktop/Daeyeon/ICT_AI_Class/Week_2/Day_8.ipynb#ch0000008?line=15'>16</a>\u001b[0m \u001b[39mprint\u001b[39m(circle\u001b[39m.\u001b[39;49m__radius)\n",
      "\u001b[0;31mAttributeError\u001b[0m: 'Circle' object has no attribute '__radius'"
     ]
    }
   ],
   "source": [
    "import math\n",
    "\n",
    "class Circle:\n",
    "    def __init__(self, radius):\n",
    "        self.__radius = radius\n",
    "    \n",
    "    def get_circumference(self):\n",
    "        return 2 * math.pi * self.__radius\n",
    "    \n",
    "    def get_area(self):\n",
    "        return math.pi * (self.__radius ** 2)\n",
    "\n",
    "circle = Circle(10)\n",
    "print(circle.get_circumference(), circle.get_area())\n",
    "\n",
    "print(circle.__radius)"
   ]
  },
  {
   "cell_type": "markdown",
   "metadata": {},
   "source": [
    "#### 프라이빗 변수의 getter, setter\n",
    "프라이빗 변수 값 추출하거나 변경할 목적으로 간접적으로 속성에 접근하도록 하는 함수"
   ]
  },
  {
   "cell_type": "code",
   "execution_count": 14,
   "metadata": {},
   "outputs": [
    {
     "name": "stdout",
     "output_type": "stream",
     "text": [
      "10\n"
     ]
    }
   ],
   "source": [
    "import math\n",
    "\n",
    "class Circle:\n",
    "    def __init__(self, radius):\n",
    "        self.__radius = radius\n",
    "    \n",
    "    def get_circumference(self):\n",
    "        return 2 * math.pi * self.__radius\n",
    "    \n",
    "    def get_area(self):\n",
    "        return math.pi * (self.__radius ** 2)\n",
    "\n",
    "    def get_radius(self):\n",
    "        return self.__radius\n",
    "\n",
    "    def set_radius(self, value):\n",
    "        self.__radius = value\n",
    "\n",
    "\n",
    "circle = Circle(10)\n",
    "print(circle.get_radius())\n",
    "# print(circle.__radius) -> 에러 발생\n"
   ]
  },
  {
   "cell_type": "markdown",
   "metadata": {},
   "source": [
    "## underscore\n",
    "\n",
    "#### 1. _var\n",
    "관습적으로 붙임(강제적 의미 X), 외부에서 접근이 가능하긴 하지만, 되도록이면 외부에는 허용하지 않는 것이 좋다는 뜻\n",
    "\n",
    "#### 2. var_\n",
    "마찬가지로 강제적 의미 X, for/def/list ,,, 이미 파이썬 문법에서 사용하고 있는 단어인데 그걸 변수로 사용하고 싶을 때 뒤에 _ 하나를 붙임\n",
    "\n",
    "#### 3. __var\n",
    "_를 앞에 두 개 붙이면 파이썬이 자체적으로 private 변수로 바꿈(아예 다른 이름으로 바꿔버림. 그러니까 접근이 안 되는 것. 정확히 말하면 접근이 안 되는 것처럼 보임)\n",
    "\n",
    "#### 4. __var__\n",
    "_ 두 개를 앞 뒤로 붙이면, 특수한 조건이 생김\n",
    "\n",
    "#### 5. _\n",
    "_ 하나만 사용하는 것은 임시 변수로 지정한다는 말.\n",
    "> 사용 예시 1\n",
    "```\n",
    "    for i in range(10):\n",
    "        print(\".\")\n",
    "    <!-- 여기서 i는 아무 의미 없는 변수. 이때는 _로 대체 가능 -->\n",
    "\n",
    "    for _ in range(10):\n",
    "        print(\".\")\n",
    "```\n",
    "> 사용 예시 2\n",
    "```\n",
    "    car = (\"red\", 2, 3, \"10000000\")\n",
    "    color, _, _, price = car\n",
    "    <!-- car 튜플의 원소를 변수에 저장하는데, color와 price 외 다른 변수들은 중요하지 않다면 나머지 변수들은 _로 두고 코드 짜기 -->\n",
    "```"
   ]
  },
  {
   "cell_type": "markdown",
   "metadata": {},
   "source": [
    "### Decorator\n",
    "- def is First Class citizen in python\n",
    "\n",
    "    이름을 가지고\n",
    "\n",
    "    다른 변수에 대입할 수 있고\n",
    "\n",
    "    인수로 전달할 수 있고\n",
    "\n",
    "    리턴값으로 사용할 수 있고\n",
    "\n",
    "    컬렉션에 저장할 수 있기 때문에\n",
    "\n",
    "#### 지역 함수\n",
    "다른 함수 안에 정의되는 도우미 함수\n",
    "\n",
    "함수 내부의 반복되는 코드를 통합하여 관리가 용이하게 함\n",
    "\n",
    "#### 데코레이터\n",
    "함수에 원하는 코드를 추가하는 기법\n",
    "\n",
    "함수 래핑(wrapping)\n",
    "    원하는 코드 추가 및 원래 함수를 대리 호출하여 기능을 확장"
   ]
  },
  {
   "cell_type": "markdown",
   "metadata": {},
   "source": [
    "### Function Argument Unpacking\n",
    "#### * & **\n",
    "\n",
    "vector가 튜플이나 리스트로 표현된 경우\n",
    "```\n",
    "    >>> tuple_vec = (1, 0, 1)\n",
    "    >>> list_vec = [1, 0, 1]\n",
    "    >>> print_vector(tuple_vec[0], tuple_vec[1], tuple_vec[2])\n",
    "    <1, 0, 1>\n",
    "```\n",
    "=> 귀찮다\n",
    "\n",
    "• '*' operator로 function argument unpacking이 가능\n",
    "\n",
    "• '**' operator로 dictionary에서 keyword argument unpaking이 가능\n",
    "\n",
    "• dictionary는 unordered이기 때문에 key값과 일치하는 함수 argument에 해당 값을 넣어 줌\n",
    "```\n",
    "    >>> print_vector(*tuple_vec)\n",
    "    <1, 0, 1>\n",
    "    >>> print_vector(*list_vec)\n",
    "    <1, 0, 1>\n",
    "    >>> dict_vec = {'y':0, 'z':1, 'x':1}\n",
    "    >>> print_vector(**dict_vec)\n",
    "    <1, 0, 1>\n",
    "```"
   ]
  },
  {
   "cell_type": "markdown",
   "metadata": {},
   "source": []
  }
 ],
 "metadata": {
  "kernelspec": {
   "display_name": "Python 3.8.9 ('venv': venv)",
   "language": "python",
   "name": "python3"
  },
  "language_info": {
   "codemirror_mode": {
    "name": "ipython",
    "version": 3
   },
   "file_extension": ".py",
   "mimetype": "text/x-python",
   "name": "python",
   "nbconvert_exporter": "python",
   "pygments_lexer": "ipython3",
   "version": "3.8.9"
  },
  "orig_nbformat": 4,
  "vscode": {
   "interpreter": {
    "hash": "5ad2f0aac427d811f6da6c9394379851faf4e41bd85a9551b3e3a281e7f1b52f"
   }
  }
 },
 "nbformat": 4,
 "nbformat_minor": 2
}
