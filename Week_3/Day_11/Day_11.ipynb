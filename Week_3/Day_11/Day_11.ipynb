{
 "cells": [
  {
   "cell_type": "markdown",
   "metadata": {},
   "source": [
    "### 나이브 베이지안 분류기 (Naive Bayes)\n",
    "Naive : 어리숙한\n",
    "\n",
    "즉, 모든 사건을 독립적이라고 가정하는, 조건부 확률 기반 방법\n",
    "\n",
    "(조건부 확률 : 어떤 사건 B가 일어났을 때 사건 A가 발생할 확률)\n",
    "\n",
    "ex. 날씨에 따라 필드에 나갈 지 말지를 결정하려고 하는 문제\n",
    "\n",
    "오늘 날씨 : 비가 오고, 온도가 적당하고, 습도가 높고, 바람이 분다\n",
    "\n",
    "##### 분류 기준\n",
    "> MAP(Maximum A Posteriori)\n",
    "\n",
    "        사후 확률을 계산해 더 높은 확률을 가지는 것을 정답으로 분류\n",
    "##### 종류\n",
    "1. 가우시안 나이브 베이즈 (GaussianNB)\n",
    "2. 다항분포 나이브 베이즈 (MultimonialNB())\n",
    "   \n",
    "    이산적인 값에 사용, 하나의 특성이 여러 종류로 나뉘는 경우\n",
    "\n",
    "    ex. 스팸메일 - 각 단어가 스팸 메일에서 나타나는 확률을 계산하고 모든 단어의 확률을 더해서 하나의 메일이 스팸 확률을 계산하는 방법이 바로 다항분포 베이지안 분류 방법이다.\n",
    "\n",
    "3. 베르누이 나이브 베이즈(이항분포) (BernoulliNB())\n",
    "   \n",
    "    이산적인 값에 사용, 모든 특성이 두 종류로만 나뉘는 경우"
   ]
  },
  {
   "cell_type": "code",
   "execution_count": 30,
   "metadata": {},
   "outputs": [
    {
     "name": "stdout",
     "output_type": "stream",
     "text": [
      "    outlook temperature humidity  windy play\n",
      "0  overcast         hot     high  False  yes\n",
      "1  overcast        cool   normal   True  yes\n",
      "2  overcast        mild     high   True  yes\n",
      "3  overcast         hot   normal  False  yes\n",
      "4     rainy        mild     high  False  yes\n"
     ]
    },
    {
     "name": "stderr",
     "output_type": "stream",
     "text": [
      "/Users/emilynan/Desktop/Daeyeon/ICT_AI_Class/venv/lib/python3.8/site-packages/sklearn/base.py:450: UserWarning: X does not have valid feature names, but MultinomialNB was fitted with feature names\n",
      "  warnings.warn(\n"
     ]
    },
    {
     "data": {
      "text/plain": [
       "array(['yes'], dtype='<U3')"
      ]
     },
     "execution_count": 30,
     "metadata": {},
     "output_type": "execute_result"
    }
   ],
   "source": [
    "\"\"\"\n",
    "이산적인 데이터 - MultinomiaNB\n",
    "\"\"\"\n",
    "import pandas as pd\n",
    "from sklearn.naive_bayes import MultinomialNB\n",
    "\n",
    "# 자료 읽기\n",
    "data = pd.read_csv('./weather.csv', sep=',', engine='python')\n",
    "print(data.head())\n",
    "\n",
    "# Naive Bayes 모듈 중 다항분포 나이브 베이즈 가져와 인스턴스화 하기 \n",
    "multinomial_model = MultinomialNB()\n",
    "\n",
    "# Category 문자 데이터를 숫자 category로 변환 (Map 활용)\n",
    "# mapping dictionary 만들기\n",
    "outlook_dic = {\"overcast\":0, \"rainy\":1, \"sunny\":2}\n",
    "temperature_dic = {\"cool\":0, \"hot\":1, \"mild\":2}\n",
    "humidity_dic = {\"high\":0, \"normal\":1}\n",
    "windy_dic = {False:0, True:1}\n",
    "\n",
    "# dictionary 활용해 data mapping\n",
    "data[\"outlook\"] = data[\"outlook\"].map(outlook_dic)\n",
    "data[\"temperature\"] = data[\"temperature\"].map(temperature_dic)\n",
    "data[\"humidity\"] = data[\"humidity\"].map(humidity_dic)\n",
    "data[\"windy\"] = data[\"windy\"].map(windy_dic)\n",
    "\n",
    "multinomial_model.fit(data.iloc[:, :4], data[\"play\"])\n",
    "\n",
    "multinomial_model.predict([[0,1,0,0]])"
   ]
  },
  {
   "cell_type": "code",
   "execution_count": 27,
   "metadata": {},
   "outputs": [
    {
     "name": "stdout",
     "output_type": "stream",
     "text": [
      "              precision    recall  f1-score   support\n",
      "\n",
      "           0       1.00      1.00      1.00        18\n",
      "           1       0.93      1.00      0.97        14\n",
      "           2       1.00      0.94      0.97        18\n",
      "\n",
      "    accuracy                           0.98        50\n",
      "   macro avg       0.98      0.98      0.98        50\n",
      "weighted avg       0.98      0.98      0.98        50\n",
      "\n",
      "[[18  0  0]\n",
      " [ 0 14  0]\n",
      " [ 0  1 17]]\n"
     ]
    }
   ],
   "source": [
    "\"\"\"\n",
    "연속적인 데이터 - GaussianNB\n",
    "\"\"\"\n",
    "import pandas as pd\n",
    "from sklearn.datasets import load_iris\n",
    "from sklearn.metrics import classification_report, confusion_matrix\n",
    "from sklearn.model_selection import train_test_split\n",
    "from sklearn.naive_bayes import GaussianNB\n",
    "\n",
    "iris = load_iris()\n",
    "\n",
    "# 자료 준비\n",
    "iris_df = pd.DataFrame(iris.data, columns=iris.feature_names)\n",
    "iris_df[\"species\"] = iris.target\n",
    "\n",
    "# 가우시안 모델 인스턴스화\n",
    "gaussian_model = GaussianNB()\n",
    "\n",
    "# 데이터를 학습데이터와 테스트 데이터로 분할 후 학습 데이터로 학습\n",
    "X_train, X_test, y_train, y_test = train_test_split(iris_df.iloc[:,:4], iris_df[\"species\"], test_size = 0.33)\n",
    "gaussian_model.fit(X_train, y_train)\n",
    "\n",
    "# 테스트 데이터로 성능 평가\n",
    "print(classification_report(y_test, gaussian_model.predict(X_test)))\n",
    "print(confusion_matrix(y_test, gaussian_model.predict(X_test)))"
   ]
  },
  {
   "cell_type": "markdown",
   "metadata": {},
   "source": [
    "### 결정 트리\n",
    "아직 일어나지 않은 일에 대하여 미리 판단해야 하는 종류의 문제에 적용\n",
    "\n",
    "데이터들의 분포를 분류하여 결과를 예측하는 알고리즘\n",
    "\n",
    "(어떤 모양(선형, 비선형,,)의 데이터가 들어와도 풀 수 있음)\n",
    "\n",
    "Classification과 regression을 수행하는 분류 알고리즘\n",
    "\n",
    "##### 장점\n",
    "White-box 모델 (내부가 ㅌ투명해 결과가 나오는 이유를 설명할 수 있다.)\n",
    "\n",
    "시각화될 수 있어 이해가 쉽고, 해석이 간단하며, 전처리 절차가 간단하다.\n",
    "\n",
    "##### 단점\n",
    "불안정 (데이터가 조금만 변해도 아예 다른 decision tree가 생성될 수 있다)\n",
    "\n",
    "XOR 표현 못함\n",
    "\n",
    "##### 영역 분할\n",
    "정보획득이 많은 방향\n",
    "\n",
    "영역의 순도(homogeneity)는 증가, 불순도(Impurity)는 감소하는 방향으로 분할\n",
    "\n",
    "##### 순도를 계산하는 방법\n",
    "1. Entropy에 의한 방법\n",
    "    엔트로피 = 무질서도 = 정보력이 낮음 (엔트로피 값이 높다 == 무질서 하다 == 애매하다 == 정보력이 낮다)\n",
    "\n",
    "    즉, 엔트로피를 최소화시키는 방향으로 사용\n",
    "2. Gini index(불순도)에 의한 방법\n",
    "3. MSE(Mean square error)에 의한 방법"
   ]
  },
  {
   "cell_type": "code",
   "execution_count": 31,
   "metadata": {},
   "outputs": [
    {
     "name": "stderr",
     "output_type": "stream",
     "text": [
      "/Users/emilynan/Desktop/Daeyeon/ICT_AI_Class/venv/lib/python3.8/site-packages/sklearn/base.py:450: UserWarning: X does not have valid feature names, but DecisionTreeClassifier was fitted with feature names\n",
      "  warnings.warn(\n"
     ]
    },
    {
     "data": {
      "text/plain": [
       "array(['no'], dtype=object)"
      ]
     },
     "execution_count": 31,
     "metadata": {},
     "output_type": "execute_result"
    }
   ],
   "source": [
    "import pandas as pd\n",
    "from sklearn import tree\n",
    "\n",
    "# 데이터 준비\n",
    "data = pd.read_csv(\"./weather.csv\", sep=\",\", engine=\"python\")\n",
    "\n",
    "# mapping dictionary 만들기\n",
    "outlook_dic = {\"overcast\":0, \"rainy\":1, \"sunny\":2}\n",
    "temperature_dic = {\"cool\":0, \"hot\":1, \"mild\":2}\n",
    "humidity_dic = {\"high\":0, \"normal\":1}\n",
    "windy_dic = {False:0, True:1}\n",
    "\n",
    "# dictionary 활용해 data mapping\n",
    "data[\"outlook\"] = data[\"outlook\"].map(outlook_dic)\n",
    "data[\"temperature\"] = data[\"temperature\"].map(temperature_dic)\n",
    "data[\"humidity\"] = data[\"humidity\"].map(humidity_dic)\n",
    "data[\"windy\"] = data[\"windy\"].map(windy_dic)\n",
    "\n",
    "# 결정 트리 분류기 인스턴스 생성\n",
    "clf = tree.DecisionTreeClassifier()\n",
    "\n",
    "# 결정 트리 분류기 학습\n",
    "clf.fit(data.iloc[:, :4], data[\"play\"])\n",
    "\n",
    "# 예측 (오늘 같은 날씨에는 필드에 나갈까?)\n",
    "# 맑고, 온도가 적당하고, 습도가 높고, 바람이 분다\n",
    "clf.predict([[2,2,0,1]])"
   ]
  },
  {
   "cell_type": "code",
   "execution_count": 6,
   "metadata": {},
   "outputs": [
    {
     "name": "stdout",
     "output_type": "stream",
     "text": [
      "              precision    recall  f1-score   support\n",
      "\n",
      "           0       1.00      1.00      1.00        19\n",
      "           1       1.00      0.94      0.97        18\n",
      "           2       0.93      1.00      0.96        13\n",
      "\n",
      "    accuracy                           0.98        50\n",
      "   macro avg       0.98      0.98      0.98        50\n",
      "weighted avg       0.98      0.98      0.98        50\n",
      "\n",
      "[[19  0  0]\n",
      " [ 0 17  1]\n",
      " [ 0  0 13]]\n"
     ]
    }
   ],
   "source": [
    "import pandas as pd\n",
    "from sklearn import tree\n",
    "from sklearn.datasets import load_iris\n",
    "from sklearn.metrics import classification_report, confusion_matrix\n",
    "from sklearn.model_selection import train_test_split\n",
    "\n",
    "\n",
    "iris = load_iris()\n",
    "\n",
    "iris_df = pd.DataFrame(iris.data, columns=iris.feature_names)\n",
    "iris_df[\"species\"] = iris.target\n",
    "# print(iris_df)\n",
    "\n",
    "# 결정 트리 분류기 인스턴스 생성\n",
    "clf = tree.DecisionTreeClassifier()\n",
    "\n",
    "# 데이터를 학습데이터와 테스트 데이터로 분할 후 학습 데이터로 학습\n",
    "X_train, X_test, y_train, y_test = train_test_split(iris_df.iloc[:,:4], iris_df[\"species\"], test_size = 0.33)\n",
    "clf.fit(X_train, y_train)\n",
    "\n",
    "# 테스트 데이터로 성능 평가\n",
    "print(classification_report(y_test, clf.predict(X_test)))\n",
    "print(confusion_matrix(y_test, clf.predict(X_test)))"
   ]
  },
  {
   "cell_type": "code",
   "execution_count": null,
   "metadata": {},
   "outputs": [],
   "source": []
  }
 ],
 "metadata": {
  "kernelspec": {
   "display_name": "Python 3.8.9 ('venv': venv)",
   "language": "python",
   "name": "python3"
  },
  "language_info": {
   "codemirror_mode": {
    "name": "ipython",
    "version": 3
   },
   "file_extension": ".py",
   "mimetype": "text/x-python",
   "name": "python",
   "nbconvert_exporter": "python",
   "pygments_lexer": "ipython3",
   "version": "3.8.9"
  },
  "orig_nbformat": 4,
  "vscode": {
   "interpreter": {
    "hash": "5ad2f0aac427d811f6da6c9394379851faf4e41bd85a9551b3e3a281e7f1b52f"
   }
  }
 },
 "nbformat": 4,
 "nbformat_minor": 2
}
