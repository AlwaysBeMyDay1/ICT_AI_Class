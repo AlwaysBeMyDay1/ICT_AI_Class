{
 "cells": [
  {
   "cell_type": "markdown",
   "metadata": {},
   "source": [
    "## 군집화 (Clustering)\n",
    "비지도 학습\n",
    "\n",
    "데이터의 성질로부터 최적으로 분할하고 레이블 구함\n",
    "\n",
    "> 활용 분야\n",
    "\n",
    "시장 분할, 지도에서 가까운 지점 병합, 영사 압축, 자료에 새로 레이블 부여, 이상행동 감지\n",
    "\n",
    "> 방법론\n",
    "\n",
    "        K-means clustering\n",
    "\n",
    "        DBSCAN"
   ]
  },
  {
   "cell_type": "markdown",
   "metadata": {},
   "source": [
    "### K-means clustering\n",
    "레이블이 없는 다차원 데이터 세트 내에 사전 정의된 군집의 개수를 찾아내는 방법\n",
    "\n",
    "최적의 군집화 / '군집 중앙'은 해당 군집에 속하는 모든 점의 산술 평균, 각 점은 다른 군집의 중앙보다 자신이 속한 군집의 중앙에 더 가깝다"
   ]
  },
  {
   "cell_type": "code",
   "execution_count": null,
   "metadata": {},
   "outputs": [],
   "source": [
    "# 군집화를 보여주기 위한 데이터\n",
    "%matplotlib inline\n",
    "import matplotlib.pyplot as plt\n",
    "import seaborn as sns; sns.set()\n",
    "import numpy as np\n",
    "from sklearn.datasets._samples_generator import make_blobs\n",
    "\n",
    "# 4개 영역의 2차원 자료의 생성\n",
    "X, y_true = make_blobs(n_samples=300, centers=4, cluster_std=0.60, random_state=0)\n",
    "plt.scatter(X[:,0], X[:, 1], s=50)"
   ]
  }
 ],
 "metadata": {
  "language_info": {
   "name": "python"
  },
  "orig_nbformat": 4
 },
 "nbformat": 4,
 "nbformat_minor": 2
}
