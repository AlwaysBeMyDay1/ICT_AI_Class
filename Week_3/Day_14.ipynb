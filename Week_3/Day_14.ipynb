{
 "cells": [
  {
   "cell_type": "markdown",
   "metadata": {},
   "source": [
    "## Numpy\n",
    "\n",
    "> Powerful Third-party Library\n",
    "\n",
    "|Library name|Contents|\n",
    "|:---|:---|\n",
    "|Numpy|array 컴퓨팅 지원|\n",
    "|Ipython && Jupyter|과학문서 작성과 연구를 정리|\n",
    "|Numba|분산컴퓨팅|\n",
    "|Pandas|데이터 프레임 지원|\n",
    "|matplotlib && Bokeh|데이터 시각화|\n",
    "|Scikit-learn && Scikit-Image|기계학습과 이미지 프로세싱 처리|\n",
    "\n",
    "### Numpy\n",
    "행렬이나 대규모 다차원 배열을 쉽게 처리\n",
    "\n",
    "계산 과학 분야의 복잡한 연산을 지원 (Number + Python)\n",
    "\n",
    "Scipy나 Matplotlib, Pandas 등으로 발전, 더 복잡한 연산을 쉽게 처리 가능하도록 지원함\n",
    "\n",
    "문자열 처리에 적합하다."
   ]
  },
  {
   "cell_type": "markdown",
   "metadata": {},
   "source": [
    "#### 배열 \n",
    "(= Vectors = Matrixes = Images = Tensors = ConvNets)\n",
    "1. Numpy -> ndarray class\n",
    "   \n",
    "   배열을 이용한 벡터화 연산\n",
    "\n",
    "   배열에는 모두 동일한 자료형만 저장 가능\n",
    "\n",
    "   메모리에 연속적으로 저장\n",
    "\n",
    "   일반적으로 리스트보다 빠른 것으로 간주\n",
    "\n",
    "   > python list VS ndarray\n",
    "\n",
    "         python list : 모든 타입 입력 가능 -> list block 크기 불규칙 -> 주소로 원소 배정 -> 느림\n",
    "         \n",
    "         ndarray : 한 타입만 입력 가능 -> list block 크기 일정 -> 순차적으로 원소 배정 -> 빠름\n",
    "   "
   ]
  },
  {
   "cell_type": "code",
   "execution_count": 10,
   "metadata": {},
   "outputs": [
    {
     "name": "stdout",
     "output_type": "stream",
     "text": [
      "1차원 행렬 : [1 2 3 4 5]\n",
      "2차원 행렬 : \n",
      "[[1 2 3]\n",
      " [4 5 6]\n",
      " [7 8 9]]\n",
      "행 : 3, 열 : 3\n",
      "3차원 행렬 : \n",
      "[[[ 1  2  3]\n",
      "  [ 4  5  6]]\n",
      "\n",
      " [[ 7  8  9]\n",
      "  [10 11 12]]]\n",
      "구성 : (2, 2, 3), 차수 : 3\n"
     ]
    }
   ],
   "source": [
    "import numpy as np\n",
    "\n",
    "# 1d array\n",
    "ar = np.array([1,2,3,4,5])\n",
    "print(f\"1차원 행렬 : {ar}\")\n",
    "# 2d array\n",
    "ar = np.array([[1,2,3],[4,5,6],[7,8,9]])\n",
    "print(f\"2차원 행렬 : \\n{ar}\")\n",
    "print(f\"행 : {len(ar)}, 열 : {len(ar[0])}\") # 행과 열 길이 확인\n",
    "# 3d array\n",
    "ar = np.array([[[1,2,3],[4,5,6]],[[7,8,9],[10,11,12]]])\n",
    "print(f\"3차원 행렬 : \\n{ar}\")\n",
    "print(f\"구성 : {ar.shape}, 차수 : {ar.ndim}\") # 행과 열 길이 확인"
   ]
  },
  {
   "cell_type": "code",
   "execution_count": 12,
   "metadata": {},
   "outputs": [
    {
     "name": "stdout",
     "output_type": "stream",
     "text": [
      "[[0. 0. 0. 0. 0. 0.]\n",
      " [0. 0. 0. 0. 0. 0.]\n",
      " [0. 0. 0. 0. 0. 0.]]\n",
      "[[1. 1. 1. 1. 1. 1.]\n",
      " [1. 1. 1. 1. 1. 1.]\n",
      " [1. 1. 1. 1. 1. 1.]]\n",
      "[100 101 102 103 104 105 106 107 108 109]\n",
      "[[100 101 102 103 104]\n",
      " [105 106 107 108 109]]\n"
     ]
    },
    {
     "data": {
      "text/plain": [
       "array([[[0.96195846, 0.86004898, 0.80766773],\n",
       "        [0.51491994, 0.3099914 , 0.18320863],\n",
       "        [0.65320074, 0.89096   , 0.85113032],\n",
       "        [0.49508236, 0.20829937, 0.53112094],\n",
       "        [0.21269134, 0.97161684, 0.04265348]],\n",
       "\n",
       "       [[0.53102651, 0.71953291, 0.67961169],\n",
       "        [0.94675148, 0.82503067, 0.02079841],\n",
       "        [0.82152627, 0.69050541, 0.5466035 ],\n",
       "        [0.16993313, 0.62295204, 0.84190079],\n",
       "        [0.11226008, 0.9609146 , 0.3695011 ]]])"
      ]
     },
     "execution_count": 12,
     "metadata": {},
     "output_type": "execute_result"
    }
   ],
   "source": [
    "# 배열 생성 함수\n",
    "import numpy as np\n",
    "\n",
    "arr = np.zeros((3,6))\n",
    "print(arr)\n",
    "arr = np.ones((3,6))\n",
    "print(arr)\n",
    "arr = np.arange(100, 110)\n",
    "print(arr)\n",
    "arr = np.arange(100, 110).reshape(2,5)\n",
    "print(arr)\n",
    "np.random.random((2,5,3))"
   ]
  },
  {
   "cell_type": "code",
   "execution_count": null,
   "metadata": {},
   "outputs": [],
   "source": []
  },
  {
   "cell_type": "markdown",
   "metadata": {},
   "source": [
    "## Transpose\n",
    "행과 열을 교체\n",
    "\n",
    "```\n",
    "ar.T\n",
    "```\n",
    "\n",
    "## Slicing\n",
    "1차원 배열 : 리스트와 동일\n",
    "\n",
    "N차원 배열 : ','로 구별하여 연결"
   ]
  },
  {
   "cell_type": "code",
   "execution_count": 18,
   "metadata": {},
   "outputs": [
    {
     "name": "stdout",
     "output_type": "stream",
     "text": [
      "원래 array\n",
      " [[ 0  1  2  3]\n",
      " [ 4  5  6  7]\n",
      " [ 8  9 10 11]]\n",
      "1. \n",
      " [[ 1  2  3]\n",
      " [ 5  6  7]\n",
      " [ 9 10 11]]\n",
      "2. \n",
      " [[ 5  6  7]\n",
      " [ 9 10 11]]\n",
      "3. \n",
      " [[5]]\n"
     ]
    }
   ],
   "source": [
    "import numpy as np\n",
    "\n",
    "arr = np.array([[0,1,2,3],[4,5,6,7],[8,9,10,11]])\n",
    "print(\"원래 array\\n\", arr)\n",
    "\n",
    "print(\"1. \\n\", arr[0:,1:])\n",
    "print(\"2. \\n\", arr[1:,1:])\n",
    "print(\"3. \\n\", arr[1:2,1:2])"
   ]
  },
  {
   "cell_type": "code",
   "execution_count": 19,
   "metadata": {},
   "outputs": [
    {
     "name": "stdout",
     "output_type": "stream",
     "text": [
      "원래 array\n",
      " [[[ 0  1  2  3]\n",
      "  [ 4  5  6  7]]\n",
      "\n",
      " [[ 8  9 10 11]\n",
      "  [12 13 14 15]]\n",
      "\n",
      " [[16 17 18 19]\n",
      "  [20 21 22 23]]]\n",
      "1. \n",
      " [[[12]]\n",
      "\n",
      " [[20]]]\n",
      "2. \n",
      " [[[ 8  9 10]\n",
      "  [12 13 14]]\n",
      "\n",
      " [[16 17 18]\n",
      "  [20 21 22]]]\n",
      "3. \n",
      " [[[13 14 15]]\n",
      "\n",
      " [[21 22 23]]]\n"
     ]
    }
   ],
   "source": [
    "import numpy as np\n",
    "\n",
    "arr = np.array([[[0,1,2,3],[4,5,6,7]],[[8,9,10,11],[12,13,14,15]],[[16,17,18,19],[20,21,22,23]]])\n",
    "print(\"원래 array\\n\", arr)\n",
    "\n",
    "print(\"1. \\n\", arr[1:,1:,:1])\n",
    "print(\"2. \\n\", arr[1:,0:,:3])\n",
    "print(\"3. \\n\", arr[1:3,1:4,1:5])"
   ]
  },
  {
   "cell_type": "markdown",
   "metadata": {},
   "source": [
    "### Vectorization operation\n",
    "사칙연산 모두 가능\n",
    "\n",
    "논리연산과 비교연산, 지수함수, 로그함수도 지원"
   ]
  },
  {
   "cell_type": "code",
   "execution_count": 25,
   "metadata": {},
   "outputs": [
    {
     "name": "stdout",
     "output_type": "stream",
     "text": [
      "[1, 2, 3, 1, 2, 3]\n",
      "[ 2  4  6  8 10]\n",
      "[2, 4, 6, 8, 10]\n"
     ]
    }
   ],
   "source": [
    "# python VS numpy 비교\n",
    "\n",
    "# python\n",
    "a =[1,2,3]\n",
    "b = a*2\n",
    "print(b)\n",
    "\n",
    "# np\n",
    "ar = np.array([1,2,3,4,5])\n",
    "print(ar * 2)\n",
    "\n",
    "# python으로 위와 같은 작업하려면\n",
    "ar_a = [1,2,3,4,5]\n",
    "ar_b = []\n",
    "for n in ar_a:\n",
    "    ar_b.append(n*2)\n",
    "print(ar_b)"
   ]
  },
  {
   "cell_type": "code",
   "execution_count": 32,
   "metadata": {},
   "outputs": [
    {
     "name": "stdout",
     "output_type": "stream",
     "text": [
      "[33 45 45 36]\n",
      "True\n",
      "True\n",
      "True\n",
      "True\n",
      "False\n",
      "True\n",
      "False\n",
      "False\n"
     ]
    }
   ],
   "source": [
    "import numpy as np\n",
    "\n",
    "arr_1 = np.array([7,5,9,10])\n",
    "arr_2 = np.array([4,10,6,2])\n",
    "\n",
    "print(arr_1*3 + arr_2*3)\n",
    "\n",
    "arr_1 = np.array([[7, 5, 9, 10], [4, 10, 6, 2]])\n",
    "arr_2 = np.array([[1, 3, 4, 9], [14, 7, 6, 4]])\n",
    "\n",
    "opr_result = arr_1 - arr_2\n",
    "for column in opr_result:\n",
    "    for item in column:\n",
    "        print_res = True if item > 0 else False\n",
    "        print(print_res)\n"
   ]
  },
  {
   "cell_type": "markdown",
   "metadata": {},
   "source": [
    "### Broadcasting (브로드캐스팅)\n",
    "행렬끼리 연산할 대 크기가 다른 경우 이를 알아서 확대해주는 기능\n",
    "\n",
    "### 그 외 유용한 기능들\n",
    "• min, max, argmin, argmax, sum, mean, median\n",
    "\n",
    "• axis, sort\n",
    "\n",
    "• var, std\n",
    "\n",
    "• exp, sqrt, sin, cos\n",
    "\n",
    "• dot"
   ]
  },
  {
   "cell_type": "code",
   "execution_count": null,
   "metadata": {},
   "outputs": [],
   "source": []
  }
 ],
 "metadata": {
  "kernelspec": {
   "display_name": "Python 3.8.9 ('venv': venv)",
   "language": "python",
   "name": "python3"
  },
  "language_info": {
   "codemirror_mode": {
    "name": "ipython",
    "version": 3
   },
   "file_extension": ".py",
   "mimetype": "text/x-python",
   "name": "python",
   "nbconvert_exporter": "python",
   "pygments_lexer": "ipython3",
   "version": "3.8.9"
  },
  "orig_nbformat": 4,
  "vscode": {
   "interpreter": {
    "hash": "5ad2f0aac427d811f6da6c9394379851faf4e41bd85a9551b3e3a281e7f1b52f"
   }
  }
 },
 "nbformat": 4,
 "nbformat_minor": 2
}
