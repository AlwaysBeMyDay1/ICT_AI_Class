{
 "cells": [
  {
   "cell_type": "markdown",
   "metadata": {},
   "source": [
    "## Neural Network\n",
    "컴퓨터가 단순 산술 계산을 넘어 인간만이 풀 수 있는 문제까지 영역을 넓히기 위해서\n",
    "\n",
    "인간의 뇌를 모방하는 것이 Neural Network의 첫 시작\n",
    "\n",
    "> 인간의 뇌가 작동하는 방식\n",
    "1. 외부의 자극이 감지 되면 자극 감지 기관으로부터 뇌의 특정 부분까지의 신경계가 활성화되면서 해당 정보를 처리\n",
    "2. 신경세포(neuron)들은 전기적 신호를 이용해 메세지를 주고 받음\n",
    "\n",
    "여기서 뇌의 신경세포(neuron)에 해당하는 게, node이고\n",
    "\n",
    "node라는 작은 요소들을 연결해 만든 네트워크가 Neural Network.\n",
    "\n",
    "또 1.에 따르면 신경세포들의 전기적 신호는 외부의 자극에 따라 연결 관계를 바꾸는 방식으로 만들어지는데\n",
    "\n",
    "이런 연결 관계는 Neural Network는 node들의 연결 weight로 흉내낸다.\n",
    "\n",
    "=> 즉, Neural Network는 \"inputs(외부의 자극)\"에 \"weight\"를 곱한 총합이 \"activation function(활성함수)\"에 따라 최종 \"출력\"이 결정되는 방식으로 구성되어 있다.\n",
    "\n",
    "이런 Neural Network에서의 training은 inputs을 나름대로 취합하여 최종 출력과 비슷한 결과를 낼 수 있도록 계속해서 weight를 조절해가는 과정을 말하며, data를 통한 반복적 training을 통해 weight가 정해지게 된다.\n",
    "\n",
    "> 신경망 훈련 요소\n",
    "\n",
    "        - 네트워크(또는 모델)를 구성하는 층(layer)\n",
    "        - 입력 데이터와 그에 상응하는 타깃(target)\n",
    "        - 학습에 사용할 피드백 신호를 정의하는 손실함수(loss function) = 예측값과 라벨을 비교해서 파라미터 조정하는 역할\n",
    "        - 학습 진행 방식을 결정하는 옵티마이저(optimizer)\n",
    "\n",
    "layer = 딥러닝의 레고 블록\n"
   ]
  },
  {
   "cell_type": "code",
   "execution_count": null,
   "metadata": {},
   "outputs": [],
   "source": []
  }
 ],
 "metadata": {
  "language_info": {
   "name": "python"
  },
  "orig_nbformat": 4
 },
 "nbformat": 4,
 "nbformat_minor": 2
}
