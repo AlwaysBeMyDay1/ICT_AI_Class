{
 "cells": [
  {
   "cell_type": "markdown",
   "metadata": {},
   "source": [
    "# Pandas\n",
    "Python용 데이터 조작과 분석을 위한 라이브러리\n",
    "\n",
    "행과 열으로 이루어진 데이터 객체를 사용\n",
    "\n",
    "안정적으로 대용량의 데이터들을 처리하는 데 매우 유용\n"
   ]
  },
  {
   "cell_type": "code",
   "execution_count": 1,
   "metadata": {},
   "outputs": [
    {
     "name": "stdout",
     "output_type": "stream",
     "text": [
      "0    1.0\n",
      "1    3.0\n",
      "2    5.0\n",
      "3    NaN\n",
      "4    6.0\n",
      "5    8.0\n",
      "dtype: float64\n"
     ]
    }
   ],
   "source": [
    "# object creation with pandas\n",
    "import numpy as np\n",
    "import pandas as pd\n",
    "\n",
    "s = pd.Series([1,3,5,np.nan,6,8])\n",
    "print(s)    # 값을 가지고 있는 리스트를 통해 시리즈를 만들고, 인덱스를 기본값으로 불러옴."
   ]
  },
  {
   "cell_type": "code",
   "execution_count": 3,
   "metadata": {},
   "outputs": [
    {
     "name": "stdout",
     "output_type": "stream",
     "text": [
      "DatetimeIndex(['1998-09-01', '1998-09-02', '1998-09-03', '1998-09-04',\n",
      "               '1998-09-05', '1998-09-06'],\n",
      "              dtype='datetime64[ns]', freq='D')\n",
      "                   A         B         C         D\n",
      "1998-09-01  0.013208  0.744221  0.120024 -0.210863\n",
      "1998-09-02 -0.096221 -1.027258  0.487040 -0.446694\n",
      "1998-09-03  0.743744  0.403689  0.643220 -1.538585\n",
      "1998-09-04 -1.909607 -0.692430 -0.548318  0.403012\n",
      "1998-09-05 -0.483872 -0.563483  0.597622 -0.744410\n",
      "1998-09-06 -0.501522 -0.106837 -0.055529  0.217298\n",
      "     A          B    C  D      E    F\n",
      "0  1.0 1998-09-01  1.0  3   test  foo\n",
      "1  1.0 1998-09-01  1.0  3  train  foo\n",
      "2  1.0 1998-09-01  1.0  3   test  foo\n",
      "3  1.0 1998-09-01  1.0  3  train  foo\n",
      "A           float64\n",
      "B    datetime64[ns]\n",
      "C           float32\n",
      "D             int32\n",
      "E          category\n",
      "F            object\n",
      "dtype: object\n"
     ]
    }
   ],
   "source": [
    "# datetime 인덱스와 레이블이 있는 열이 있는 numpy 배열을 전달하여 데이터 프레임 만들기\n",
    "dates = pd.date_range('19980901', periods=6)\n",
    "print(dates)\n",
    "df = pd.DataFrame(np.random.randn(6,4), index=dates, columns=list('ABCD'))\n",
    "print(df)\n",
    "\n",
    "# 시리즈와 같은 것으로 바뀔 수 있는 객체와 dict로 구성된 dataframe\n",
    "# pd에 timestamp = 날짜 형식으로 넣어주라는 뜻\n",
    "# C열 같은 경우, 데이터타입이 float으로 지정되어 있다. 만약 int로 했으면 소수점 안 붙었을 것.\n",
    "# 다음 줄은 int로 지정\n",
    "# E는 카테고리컬 데이터.\n",
    "# foo. 데이터타입까지 다 지정. A는 1하고 .을 찍었으니 float으로 자동 적용되어 있음.\n",
    "# 데이터 프레임 생성. 각가의 칼럼 A~F는 시리즈 데이터다.\n",
    "df2 = pd.DataFrame({'A':1.,\n",
    "'B': pd.Timestamp('19980901'),\n",
    "'C': pd.Series(1, index=list(range(4)), dtype='float32'),\n",
    "'D': np.array([3] * 4, dtype='int32'),\n",
    "'E': pd.Categorical(['test', 'train', 'test', 'train']),\n",
    "'F': 'foo'})\n",
    "\n",
    "print(df2)\n",
    "\n",
    "print(df2.dtypes)"
   ]
  },
  {
   "cell_type": "code",
   "execution_count": null,
   "metadata": {},
   "outputs": [],
   "source": [
    "d1 = pd.date_range('19980901', periods=100)"
   ]
  }
 ],
 "metadata": {
  "kernelspec": {
   "display_name": "Python 3.8.9 ('venv': venv)",
   "language": "python",
   "name": "python3"
  },
  "language_info": {
   "codemirror_mode": {
    "name": "ipython",
    "version": 3
   },
   "file_extension": ".py",
   "mimetype": "text/x-python",
   "name": "python",
   "nbconvert_exporter": "python",
   "pygments_lexer": "ipython3",
   "version": "3.8.9"
  },
  "orig_nbformat": 4,
  "vscode": {
   "interpreter": {
    "hash": "5ad2f0aac427d811f6da6c9394379851faf4e41bd85a9551b3e3a281e7f1b52f"
   }
  }
 },
 "nbformat": 4,
 "nbformat_minor": 2
}
