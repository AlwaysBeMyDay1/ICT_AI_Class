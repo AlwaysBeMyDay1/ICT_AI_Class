{
 "cells": [
  {
   "cell_type": "code",
   "execution_count": 7,
   "metadata": {},
   "outputs": [],
   "source": [
    "import cv2\n",
    "import numpy as np\n",
    "from matplotlib import pyplot as plt\n",
    "\n",
    "# Read the image\n",
    "img = cv2.imread('receipt.png',0)\n",
    "# Simple thresholding\n",
    "ret,thresh1 = cv2.threshold(img,210,255,cv2.THRESH_BINARY)\n",
    "cv2.imshow('gray', thresh1)"
   ]
  },
  {
   "cell_type": "code",
   "execution_count": 9,
   "metadata": {},
   "outputs": [
    {
     "ename": "TesseractNotFoundError",
     "evalue": "tesseract is not installed or it's not in your PATH. See README file for more information.",
     "output_type": "error",
     "traceback": [
      "\u001b[0;31m---------------------------------------------------------------------------\u001b[0m",
      "\u001b[0;31mFileNotFoundError\u001b[0m                         Traceback (most recent call last)",
      "File \u001b[0;32m~/Desktop/Daeyeon/ICT_AI_Class/venv/lib/python3.8/site-packages/pytesseract/pytesseract.py:388\u001b[0m, in \u001b[0;36mget_tesseract_version\u001b[0;34m()\u001b[0m\n\u001b[1;32m    387\u001b[0m \u001b[39mtry\u001b[39;00m:\n\u001b[0;32m--> 388\u001b[0m     output \u001b[39m=\u001b[39m subprocess\u001b[39m.\u001b[39;49mcheck_output(\n\u001b[1;32m    389\u001b[0m         [tesseract_cmd, \u001b[39m'\u001b[39;49m\u001b[39m--version\u001b[39;49m\u001b[39m'\u001b[39;49m],\n\u001b[1;32m    390\u001b[0m         stderr\u001b[39m=\u001b[39;49msubprocess\u001b[39m.\u001b[39;49mSTDOUT,\n\u001b[1;32m    391\u001b[0m         env\u001b[39m=\u001b[39;49menviron,\n\u001b[1;32m    392\u001b[0m         stdin\u001b[39m=\u001b[39;49msubprocess\u001b[39m.\u001b[39;49mDEVNULL,\n\u001b[1;32m    393\u001b[0m     )\n\u001b[1;32m    394\u001b[0m \u001b[39mexcept\u001b[39;00m \u001b[39mOSError\u001b[39;00m:\n",
      "File \u001b[0;32m/Library/Frameworks/Python.framework/Versions/3.8/lib/python3.8/subprocess.py:415\u001b[0m, in \u001b[0;36mcheck_output\u001b[0;34m(timeout, *popenargs, **kwargs)\u001b[0m\n\u001b[1;32m    413\u001b[0m     kwargs[\u001b[39m'\u001b[39m\u001b[39minput\u001b[39m\u001b[39m'\u001b[39m] \u001b[39m=\u001b[39m empty\n\u001b[0;32m--> 415\u001b[0m \u001b[39mreturn\u001b[39;00m run(\u001b[39m*\u001b[39;49mpopenargs, stdout\u001b[39m=\u001b[39;49mPIPE, timeout\u001b[39m=\u001b[39;49mtimeout, check\u001b[39m=\u001b[39;49m\u001b[39mTrue\u001b[39;49;00m,\n\u001b[1;32m    416\u001b[0m            \u001b[39m*\u001b[39;49m\u001b[39m*\u001b[39;49mkwargs)\u001b[39m.\u001b[39mstdout\n",
      "File \u001b[0;32m/Library/Frameworks/Python.framework/Versions/3.8/lib/python3.8/subprocess.py:493\u001b[0m, in \u001b[0;36mrun\u001b[0;34m(input, capture_output, timeout, check, *popenargs, **kwargs)\u001b[0m\n\u001b[1;32m    491\u001b[0m     kwargs[\u001b[39m'\u001b[39m\u001b[39mstderr\u001b[39m\u001b[39m'\u001b[39m] \u001b[39m=\u001b[39m PIPE\n\u001b[0;32m--> 493\u001b[0m \u001b[39mwith\u001b[39;00m Popen(\u001b[39m*\u001b[39;49mpopenargs, \u001b[39m*\u001b[39;49m\u001b[39m*\u001b[39;49mkwargs) \u001b[39mas\u001b[39;00m process:\n\u001b[1;32m    494\u001b[0m     \u001b[39mtry\u001b[39;00m:\n",
      "File \u001b[0;32m/Library/Frameworks/Python.framework/Versions/3.8/lib/python3.8/subprocess.py:858\u001b[0m, in \u001b[0;36mPopen.__init__\u001b[0;34m(self, args, bufsize, executable, stdin, stdout, stderr, preexec_fn, close_fds, shell, cwd, env, universal_newlines, startupinfo, creationflags, restore_signals, start_new_session, pass_fds, encoding, errors, text)\u001b[0m\n\u001b[1;32m    855\u001b[0m             \u001b[39mself\u001b[39m\u001b[39m.\u001b[39mstderr \u001b[39m=\u001b[39m io\u001b[39m.\u001b[39mTextIOWrapper(\u001b[39mself\u001b[39m\u001b[39m.\u001b[39mstderr,\n\u001b[1;32m    856\u001b[0m                     encoding\u001b[39m=\u001b[39mencoding, errors\u001b[39m=\u001b[39merrors)\n\u001b[0;32m--> 858\u001b[0m     \u001b[39mself\u001b[39;49m\u001b[39m.\u001b[39;49m_execute_child(args, executable, preexec_fn, close_fds,\n\u001b[1;32m    859\u001b[0m                         pass_fds, cwd, env,\n\u001b[1;32m    860\u001b[0m                         startupinfo, creationflags, shell,\n\u001b[1;32m    861\u001b[0m                         p2cread, p2cwrite,\n\u001b[1;32m    862\u001b[0m                         c2pread, c2pwrite,\n\u001b[1;32m    863\u001b[0m                         errread, errwrite,\n\u001b[1;32m    864\u001b[0m                         restore_signals, start_new_session)\n\u001b[1;32m    865\u001b[0m \u001b[39mexcept\u001b[39;00m:\n\u001b[1;32m    866\u001b[0m     \u001b[39m# Cleanup if the child failed starting.\u001b[39;00m\n",
      "File \u001b[0;32m/Library/Frameworks/Python.framework/Versions/3.8/lib/python3.8/subprocess.py:1704\u001b[0m, in \u001b[0;36mPopen._execute_child\u001b[0;34m(self, args, executable, preexec_fn, close_fds, pass_fds, cwd, env, startupinfo, creationflags, shell, p2cread, p2cwrite, c2pread, c2pwrite, errread, errwrite, restore_signals, start_new_session)\u001b[0m\n\u001b[1;32m   1703\u001b[0m         err_msg \u001b[39m=\u001b[39m os\u001b[39m.\u001b[39mstrerror(errno_num)\n\u001b[0;32m-> 1704\u001b[0m     \u001b[39mraise\u001b[39;00m child_exception_type(errno_num, err_msg, err_filename)\n\u001b[1;32m   1705\u001b[0m \u001b[39mraise\u001b[39;00m child_exception_type(err_msg)\n",
      "\u001b[0;31mFileNotFoundError\u001b[0m: [Errno 2] No such file or directory: 'tesseract'",
      "\nDuring handling of the above exception, another exception occurred:\n",
      "\u001b[0;31mTesseractNotFoundError\u001b[0m                    Traceback (most recent call last)",
      "\u001b[1;32m/Users/emilynan/Desktop/Daeyeon/ICT_AI_Class/Week_5/receipt_detection.ipynb Cell 2\u001b[0m in \u001b[0;36m<cell line: 6>\u001b[0;34m()\u001b[0m\n\u001b[1;32m      <a href='vscode-notebook-cell:/Users/emilynan/Desktop/Daeyeon/ICT_AI_Class/Week_5/receipt_detection.ipynb#W1sZmlsZQ%3D%3D?line=2'>3</a>\u001b[0m \u001b[39mimport\u001b[39;00m \u001b[39mcv2\u001b[39;00m\n\u001b[1;32m      <a href='vscode-notebook-cell:/Users/emilynan/Desktop/Daeyeon/ICT_AI_Class/Week_5/receipt_detection.ipynb#W1sZmlsZQ%3D%3D?line=4'>5</a>\u001b[0m img \u001b[39m=\u001b[39m cv2\u001b[39m.\u001b[39mimread(\u001b[39m'\u001b[39m\u001b[39mreceipt.png\u001b[39m\u001b[39m'\u001b[39m)\n\u001b[0;32m----> <a href='vscode-notebook-cell:/Users/emilynan/Desktop/Daeyeon/ICT_AI_Class/Week_5/receipt_detection.ipynb#W1sZmlsZQ%3D%3D?line=5'>6</a>\u001b[0m d \u001b[39m=\u001b[39m pytesseract\u001b[39m.\u001b[39;49mimage_to_data(img, output_type\u001b[39m=\u001b[39;49mOutput\u001b[39m.\u001b[39;49mDICT)\n\u001b[1;32m      <a href='vscode-notebook-cell:/Users/emilynan/Desktop/Daeyeon/ICT_AI_Class/Week_5/receipt_detection.ipynb#W1sZmlsZQ%3D%3D?line=6'>7</a>\u001b[0m n_boxes \u001b[39m=\u001b[39m \u001b[39mlen\u001b[39m(d[\u001b[39m'\u001b[39m\u001b[39mlevel\u001b[39m\u001b[39m'\u001b[39m])\n\u001b[1;32m      <a href='vscode-notebook-cell:/Users/emilynan/Desktop/Daeyeon/ICT_AI_Class/Week_5/receipt_detection.ipynb#W1sZmlsZQ%3D%3D?line=8'>9</a>\u001b[0m \u001b[39mfor\u001b[39;00m i \u001b[39min\u001b[39;00m \u001b[39mrange\u001b[39m(n_boxes):\n",
      "File \u001b[0;32m~/Desktop/Daeyeon/ICT_AI_Class/venv/lib/python3.8/site-packages/pytesseract/pytesseract.py:521\u001b[0m, in \u001b[0;36mimage_to_data\u001b[0;34m(image, lang, config, nice, output_type, timeout, pandas_config)\u001b[0m\n\u001b[1;32m    507\u001b[0m \u001b[39mdef\u001b[39;00m \u001b[39mimage_to_data\u001b[39m(\n\u001b[1;32m    508\u001b[0m     image,\n\u001b[1;32m    509\u001b[0m     lang\u001b[39m=\u001b[39m\u001b[39mNone\u001b[39;00m,\n\u001b[0;32m   (...)\u001b[0m\n\u001b[1;32m    514\u001b[0m     pandas_config\u001b[39m=\u001b[39m\u001b[39mNone\u001b[39;00m,\n\u001b[1;32m    515\u001b[0m ):\n\u001b[1;32m    516\u001b[0m     \u001b[39m\"\"\"\u001b[39;00m\n\u001b[1;32m    517\u001b[0m \u001b[39m    Returns string containing box boundaries, confidences,\u001b[39;00m\n\u001b[1;32m    518\u001b[0m \u001b[39m    and other information. Requires Tesseract 3.05+\u001b[39;00m\n\u001b[1;32m    519\u001b[0m \u001b[39m    \"\"\"\u001b[39;00m\n\u001b[0;32m--> 521\u001b[0m     \u001b[39mif\u001b[39;00m get_tesseract_version() \u001b[39m<\u001b[39m TESSERACT_MIN_VERSION:\n\u001b[1;32m    522\u001b[0m         \u001b[39mraise\u001b[39;00m TSVNotSupported()\n\u001b[1;32m    524\u001b[0m     config \u001b[39m=\u001b[39m \u001b[39mf\u001b[39m\u001b[39m'\u001b[39m\u001b[39m-c tessedit_create_tsv=1 \u001b[39m\u001b[39m{\u001b[39;00mconfig\u001b[39m.\u001b[39mstrip()\u001b[39m}\u001b[39;00m\u001b[39m'\u001b[39m\n",
      "File \u001b[0;32m~/Desktop/Daeyeon/ICT_AI_Class/venv/lib/python3.8/site-packages/pytesseract/pytesseract.py:146\u001b[0m, in \u001b[0;36mrun_once.<locals>.wrapper\u001b[0;34m(*args, **kwargs)\u001b[0m\n\u001b[1;32m    143\u001b[0m \u001b[39m@wraps\u001b[39m(func)\n\u001b[1;32m    144\u001b[0m \u001b[39mdef\u001b[39;00m \u001b[39mwrapper\u001b[39m(\u001b[39m*\u001b[39margs, \u001b[39m*\u001b[39m\u001b[39m*\u001b[39mkwargs):\n\u001b[1;32m    145\u001b[0m     \u001b[39mif\u001b[39;00m wrapper\u001b[39m.\u001b[39m_result \u001b[39mis\u001b[39;00m wrapper:\n\u001b[0;32m--> 146\u001b[0m         wrapper\u001b[39m.\u001b[39m_result \u001b[39m=\u001b[39m func(\u001b[39m*\u001b[39;49margs, \u001b[39m*\u001b[39;49m\u001b[39m*\u001b[39;49mkwargs)\n\u001b[1;32m    147\u001b[0m     \u001b[39mreturn\u001b[39;00m wrapper\u001b[39m.\u001b[39m_result\n",
      "File \u001b[0;32m~/Desktop/Daeyeon/ICT_AI_Class/venv/lib/python3.8/site-packages/pytesseract/pytesseract.py:395\u001b[0m, in \u001b[0;36mget_tesseract_version\u001b[0;34m()\u001b[0m\n\u001b[1;32m    388\u001b[0m     output \u001b[39m=\u001b[39m subprocess\u001b[39m.\u001b[39mcheck_output(\n\u001b[1;32m    389\u001b[0m         [tesseract_cmd, \u001b[39m'\u001b[39m\u001b[39m--version\u001b[39m\u001b[39m'\u001b[39m],\n\u001b[1;32m    390\u001b[0m         stderr\u001b[39m=\u001b[39msubprocess\u001b[39m.\u001b[39mSTDOUT,\n\u001b[1;32m    391\u001b[0m         env\u001b[39m=\u001b[39menviron,\n\u001b[1;32m    392\u001b[0m         stdin\u001b[39m=\u001b[39msubprocess\u001b[39m.\u001b[39mDEVNULL,\n\u001b[1;32m    393\u001b[0m     )\n\u001b[1;32m    394\u001b[0m \u001b[39mexcept\u001b[39;00m \u001b[39mOSError\u001b[39;00m:\n\u001b[0;32m--> 395\u001b[0m     \u001b[39mraise\u001b[39;00m TesseractNotFoundError()\n\u001b[1;32m    397\u001b[0m raw_version \u001b[39m=\u001b[39m output\u001b[39m.\u001b[39mdecode(DEFAULT_ENCODING)\n\u001b[1;32m    398\u001b[0m str_version, \u001b[39m*\u001b[39m_ \u001b[39m=\u001b[39m raw_version\u001b[39m.\u001b[39mlstrip(string\u001b[39m.\u001b[39mprintable[\u001b[39m10\u001b[39m:])\u001b[39m.\u001b[39mpartition(\u001b[39m'\u001b[39m\u001b[39m \u001b[39m\u001b[39m'\u001b[39m)\n",
      "\u001b[0;31mTesseractNotFoundError\u001b[0m: tesseract is not installed or it's not in your PATH. See README file for more information."
     ]
    },
    {
     "ename": "",
     "evalue": "",
     "output_type": "error",
     "traceback": [
      "The Kernel crashed while executing code in the the current cell or a previous cell. Please review the code in the cell(s) to identify a possible cause of the failure. Click <a href='https://aka.ms/vscodeJupyterKernelCrash'>here</a> for more info. View Jupyter <a href='command:jupyter.viewOutput'>log</a> for further details."
     ]
    }
   ],
   "source": [
    "import pytesseract\n",
    "from pytesseract import Output\n",
    "import cv2\n",
    "\n",
    "img = cv2.imread('receipt.png')\n",
    "d = pytesseract.image_to_data(img, output_type=Output.DICT)\n",
    "n_boxes = len(d['level'])\n",
    "\n",
    "for i in range(n_boxes):\n",
    "    (x, y, w, h) = (d['left'][i], d['top'][i], d['width'][i], d['height'][i])\n",
    "    img = cv2.rectangle(img, (x, y), (x + w, y + h), (0, 0, 255), 2)\n",
    "\n",
    "cv2.imshow('img', img)"
   ]
  },
  {
   "cell_type": "code",
   "execution_count": null,
   "metadata": {},
   "outputs": [],
   "source": [
    "import re\n",
    "# regex for date. The pattern in the receipt is in 30.07.2007 in DD:MM:YYYY\n",
    "\n",
    "extracted_text = pytesseract.image_to_string(img, lang = 'deu')\n",
    "\n",
    "receipt_ocr = {}\n",
    "\n",
    "splits = extracted_text.splitlines()\n",
    "restaurant_name = splits[0] + '' + splits[1]\n",
    "\n",
    "date_pattern = r'(0[1-9]|[12][0-9]|3[01])[.](0[1-9]|1[012])[.](19|20)\\d\\d'\n",
    "date = re.search(date_pattern, extracted_text).group()\n",
    "receipt_ocr['date'] = date\n",
    "print(date)"
   ]
  }
 ],
 "metadata": {
  "kernelspec": {
   "display_name": "Python 3.8.9 ('venv': venv)",
   "language": "python",
   "name": "python3"
  },
  "language_info": {
   "codemirror_mode": {
    "name": "ipython",
    "version": 3
   },
   "file_extension": ".py",
   "mimetype": "text/x-python",
   "name": "python",
   "nbconvert_exporter": "python",
   "pygments_lexer": "ipython3",
   "version": "3.8.9"
  },
  "orig_nbformat": 4,
  "vscode": {
   "interpreter": {
    "hash": "5ad2f0aac427d811f6da6c9394379851faf4e41bd85a9551b3e3a281e7f1b52f"
   }
  }
 },
 "nbformat": 4,
 "nbformat_minor": 2
}
