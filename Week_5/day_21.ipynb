{
 "cells": [
  {
   "cell_type": "markdown",
   "metadata": {},
   "source": [
    "# Transfer learning\n",
    ": 거인의 어깨에 올라타 세상을 바라보아라"
   ]
  },
  {
   "cell_type": "code",
   "execution_count": 5,
   "metadata": {},
   "outputs": [
    {
     "name": "stdout",
     "output_type": "stream",
     "text": [
      "27c6d92a-4ce3-423d-a3c2-3e64e184ff4e\n"
     ]
    }
   ],
   "source": [
    "array = [\"16730377-c07b-416b-a101-d8aa35532a4f\", \"9a344354-4f74-491e-85c7-4620fe3e36b4\", \"27c6d92a-4ce3-423d-a3c2-3e64e184ff4e\", \"3fcac442-085b-4c5d-a79b-6c254ffd655f\", \"2c20f00a-3e42-425c-8cab-44ca1352b07b\", \"5cf95338-40b4-45f6-9f40-207bfd42b397\", \"ba8345ba-cd87-4234-80ab-bbce6639f345\", \"1aa68746-4587-4369-b1d5-56acd225585c\", \"d07415a2-e3d0-4511-b48c-3001422fd1a6\", \"b3e64396-30b7-4ad1-9303-69ddac48fb85\", \"81c59a31-3464-4ac9-9834-b98428fde976\", \"c6ae7230-a1f6-4e6a-be45-20e7922dd5f7\", \"275fcc1c-eda3-43fc-8cb2-c84d556bbf78\", \"c1b52450-31a1-47ea-8262-53aa081c8553\", \"f1e2b995-0de6-44e9-bda7-ed61b02ced3e\", \"bbdd27b9-9653-428a-9887-afa486744ace\", \"18a76b78-32f7-44fe-a04b-f74eec0a31ff\", \"a16534ed-6797-478b-b725-abecae0a6676\", \"0d91ff42-0037-48ad-81e7-8ee7c9777f35\", \"334be8a8-747e-4a51-860a-bc26df7e4590\", \"18bd665d-7fd7-4b02-b190-2f2deba58505\", \"a225421b-08be-411e-9d9a-68e7023b5f10\", \"2d192806-3541-45f7-81a6-29218747a109\", \"b94c912e-abf6-4e1a-8649-158a183b5e54\", \"27c6d92a-4ce3-423d-a3c2-3e64e184ff4e\", \"ea82540b-4032-415d-be95-d493d53c2ea7\", \"af351524-3092-4f23-90e4-1392b343838b\", \"fea83896-c3f6-4a80-af5f-d3cb2e34b39c\", \"ce4bff18-f461-4bac-90d3-6e9d3c2b2365\", \"3ec64515-3802-448f-9283-dc5e8fb86653\", \"43ee1d6c-1bc3-430f-8df7-da9f3e2054d6\", \"37fc578e-c233-4bc9-a983-21d809dba102\", \"ba33008c-a26b-4724-8ab0-0e3fbdc88101\", \"2879893a-17d2-46f2-bbf5-f4554a7487ab\", \"fec810d2-3a37-42d8-bf23-f699a2989ece\", \"63348be8-86ee-44a2-bcb9-644edd0c9a80\", \"fb36ae8a-9669-42b8-af05-01f18d3c336b\", \"7b147386-b185-432c-b37e-fb7f05fcce3f\", \"ef97e1fd-a21b-4425-a4c2-412d8ed6dcd4\", \"c7eb66bf-c29d-4bdb-8588-278126fe9fe5\", \"937aeb50-8fad-494f-9cb0-c7a0970cab06\", \"aaa6eb48-30e6-4d34-8b3c-59ae4cea68a2\", \"0bd2af8b-3012-447d-8320-88b96176d532\", \"7b3c34ab-aa8f-446d-991d-cd4d51c76de1\", \"c2263015-d1b6-44e6-be3c-db41db628194\", \"3ebc7373-e2d0-415b-bc7e-0eb31fbe5357\", \"d7809ded-dc71-4c4d-ad95-97623e3c1ccb\", \"e84a45cc-c6ee-463e-b3a5-1e4818f36afd\", \"1b9d54dd-ad4c-4c0b-b720-19347396fc72\", \"873c89a4-fdba-43d7-a3a3-15aa4a7314b8\", \"4bee4ac0-392b-4019-86b5-6f3486d79f7b\", \"6850cf9b-2b04-4e2e-b5ed-ceb13c5f2711\", \"2a2db99b-0951-45fc-9008-0914d4bcf2f0\", \"f126de17-327b-458c-953d-9c8d73c78e5c\", \"9f5e7c2c-05f0-4e06-b54c-f6bd05386c04\", \"0fdf9c50-355f-4d68-80a1-18b5666699e0\", \"e40344e6-8fd5-40e4-8425-0601bfe570b3\"]\n",
    "# counter = {}\n",
    "# for value in array:\n",
    "#     if value in counter:\n",
    "#         counter[value] += 1\n",
    "#     else:\n",
    "#         counter[value] = 1\n",
    "\n",
    "# for key, value in counter.items():\n",
    "#     if value > 1:\n",
    "        # print(key)\n",
    "\n",
    "result_list = []\n",
    "\n",
    "for value in array:\n",
    "    if value in result_list:\n",
    "        print(value)\n",
    "    else:\n",
    "        result_list.append(value)"
   ]
  },
  {
   "cell_type": "code",
   "execution_count": null,
   "metadata": {},
   "outputs": [],
   "source": []
  }
 ],
 "metadata": {
  "kernelspec": {
   "display_name": "Python 3.8.9 ('venv': venv)",
   "language": "python",
   "name": "python3"
  },
  "language_info": {
   "codemirror_mode": {
    "name": "ipython",
    "version": 3
   },
   "file_extension": ".py",
   "mimetype": "text/x-python",
   "name": "python",
   "nbconvert_exporter": "python",
   "pygments_lexer": "ipython3",
   "version": "3.8.9"
  },
  "orig_nbformat": 4,
  "vscode": {
   "interpreter": {
    "hash": "5ad2f0aac427d811f6da6c9394379851faf4e41bd85a9551b3e3a281e7f1b52f"
   }
  }
 },
 "nbformat": 4,
 "nbformat_minor": 2
}
