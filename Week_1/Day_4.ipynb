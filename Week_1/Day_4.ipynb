{
 "cells": [
  {
   "cell_type": "markdown",
   "metadata": {},
   "source": [
    "## lambda\n",
    "함수를 매개변수로 전달해, 코드를 더 효율적으로 작성\n",
    "\n",
    "\n",
    "filter(), map() : 함수를 매개변수로 전달하는 대표적인 표준함수"
   ]
  },
  {
   "cell_type": "code",
   "execution_count": null,
   "metadata": {},
   "outputs": [],
   "source": [
    "def call_10_times(func):\n",
    "    for i in range(10):\n",
    "        func()\n",
    "\n",
    "def print_hello():\n",
    "    print(\"안녕하세요\")\n",
    "\n",
    "call_10_times(print_hello)"
   ]
  },
  {
   "cell_type": "code",
   "execution_count": null,
   "metadata": {},
   "outputs": [],
   "source": [
    "def power(item):\n",
    "    return item*item\n",
    "\n",
    "def under_3(item):\n",
    "    return item < 3\n",
    "\n",
    "list_input_a = [1, 2, 3, 4, 5]\n",
    "\n",
    "# map\n",
    "output_a = map(power, list_input_a)\n",
    "print(f\"map result : {output_a}\")\n",
    "print(f\"map result_object : {list(output_a)}\\n\")\n",
    "\n",
    "# filter\n",
    "output_b = filter(under_3, list_input_a)\n",
    "print(f\"filter result : {output_b}\")\n",
    "print(f\"filter result_object : {list(output_b)}\\n\")"
   ]
  },
  {
   "cell_type": "markdown",
   "metadata": {},
   "source": [
    "lambda는 간단한 함수를 쉽게 선언하는 방법이기도 하다\n",
    "```lambda 매개변수 : 리턴값```\n",
    "여러 개의 매개변수도 사용 가능\n",
    "```lambda x,y : x * y```"
   ]
  },
  {
   "cell_type": "code",
   "execution_count": null,
   "metadata": {},
   "outputs": [],
   "source": [
    "# 위의 코드를 lambda로 변경\n",
    "power = lambda x: x*x\n",
    "under_3 = lambda x: x<3\n",
    "\n",
    "list_input_a = [1, 2, 3, 4, 5]\n",
    "\n",
    "# map\n",
    "output_a = map(power, list_input_a)\n",
    "print(f\"map result : {output_a}\")\n",
    "print(f\"map result_object : {list(output_a)}\\n\")\n",
    "\n",
    "# filter\n",
    "output_b = filter(under_3, list_input_a)\n",
    "print(f\"filter result : {output_b}\")\n",
    "print(f\"filter result_object : {list(output_b)}\\n\")"
   ]
  },
  {
   "cell_type": "markdown",
   "metadata": {},
   "source": [
    "inline lambda\n",
    "함수의 매개변수에 lambda를 바로 넣을 수 있다."
   ]
  },
  {
   "cell_type": "code",
   "execution_count": null,
   "metadata": {},
   "outputs": [],
   "source": [
    "# 위의 코드를 inline lambda로 변경\n",
    "list_input_a = [1, 2, 3, 4, 5]\n",
    "\n",
    "# map\n",
    "output_a = map(lambda x: x * x, list_input_a)\n",
    "print(f\"map result : {output_a}\")\n",
    "print(f\"map result_object : {list(output_a)}\\n\")\n",
    "\n",
    "# filter\n",
    "output_b = filter(lambda x: x < 3, list_input_a)\n",
    "print(f\"filter result : {output_b}\")\n",
    "print(f\"filter result_object : {list(output_b)}\\n\")"
   ]
  },
  {
   "cell_type": "markdown",
   "metadata": {},
   "source": [
    "파일 처리\n",
    "with문으로 close() 없이 간편하게"
   ]
  },
  {
   "cell_type": "code",
   "execution_count": null,
   "metadata": {},
   "outputs": [],
   "source": [
    "import random\n",
    "\n",
    "hanguls = list(\"가나다라마바사아자차카타파하\")\n",
    "\n",
    "with open(\"Day_4_rand_naming.txt\", \"w\") as file:\n",
    "    for i in range(1000):\n",
    "        name = random.choice(hanguls) + random.choice(hanguls)\n",
    "        weight = random.randrange(40, 100)\n",
    "        height = random. randrange(140, 200)\n",
    "\n",
    "        file.write(f\"{name} : {weight}kg / {height}cm\\n\")"
   ]
  },
  {
   "cell_type": "code",
   "execution_count": 10,
   "metadata": {},
   "outputs": [
    {
     "name": "stdout",
     "output_type": "stream",
     "text": [
      "이름 : 다파\n",
      "몸무게 : 75kg\n",
      "키 : 181cm\n",
      "BMI : 0.002289307408198773\n",
      "결과 : 저체중\n",
      "\n",
      "이름 : 자차\n",
      "몸무게 : 87kg\n",
      "키 : 145cm\n",
      "BMI : 0.004137931034482759\n",
      "결과 : 저체중\n",
      "\n",
      "이름 : 사타\n",
      "몸무게 : 46kg\n",
      "키 : 165cm\n",
      "BMI : 0.001689623507805326\n",
      "결과 : 저체중\n",
      "\n"
     ]
    }
   ],
   "source": [
    "with open(\"Day_4_rand_naming.txt\", \"r\") as file:\n",
    "    for line in file:\n",
    "        try:\n",
    "            (name, weight, height) = line.strip().split(\" / \")\n",
    "        except:\n",
    "            print(line)\n",
    "            pass\n",
    "\n",
    "        if (not name) or (not weight) or (not height):\n",
    "            continue\n",
    "        \n",
    "        bmi = int(weight.strip(\"kg\")) / (int(height.strip(\"cm\")) ** 2)\n",
    "\n",
    "        result = \"\"\n",
    "        if 25 <= bmi : result = \"과체중\"\n",
    "        elif 18.5 <= bmi : result = \"정상 체중\"\n",
    "        else : result = \"저체중\"\n",
    "\n",
    "        print('\\n'.join([f\"이름 : {name}\", f\"몸무게 : {weight}\", f\"키 : {height}\", f\"BMI : {bmi}\", f\"결과 : {result}\",]))\n",
    "        print()"
   ]
  }
 ],
 "metadata": {
  "kernelspec": {
   "display_name": "Python 3.8.9 ('venv': venv)",
   "language": "python",
   "name": "python3"
  },
  "language_info": {
   "codemirror_mode": {
    "name": "ipython",
    "version": 3
   },
   "file_extension": ".py",
   "mimetype": "text/x-python",
   "name": "python",
   "nbconvert_exporter": "python",
   "pygments_lexer": "ipython3",
   "version": "3.8.9"
  },
  "orig_nbformat": 4,
  "vscode": {
   "interpreter": {
    "hash": "5ad2f0aac427d811f6da6c9394379851faf4e41bd85a9551b3e3a281e7f1b52f"
   }
  }
 },
 "nbformat": 4,
 "nbformat_minor": 2
}
