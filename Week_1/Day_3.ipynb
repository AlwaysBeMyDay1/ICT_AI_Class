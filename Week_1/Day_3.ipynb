{
 "cells": [
  {
   "cell_type": "code",
   "execution_count": 2,
   "metadata": {},
   "outputs": [
    {
     "name": "stdout",
     "output_type": "stream",
     "text": [
      "{1: 3, 2: 4, 6: 1, 8: 2, 4: 3, 3: 3, 9: 3, 5: 2, 7: 2}\n"
     ]
    }
   ],
   "source": [
    "numbers = [1,2,6,8,4,3,2,1,9,5,4,9,7,2,1,3,5,4,8,9,7,2,3]\n",
    "counter = {}\n",
    "\n",
    "for number in numbers:\n",
    "    if number not in list(counter.keys()):\n",
    "        count_num = numbers.count(number)\n",
    "        counter[number] = count_num\n",
    "\n",
    "print(counter)"
   ]
  },
  {
   "cell_type": "code",
   "execution_count": 4,
   "metadata": {},
   "outputs": [
    {
     "name": "stdout",
     "output_type": "stream",
     "text": [
      "name : 기사\n",
      "level : 12\n",
      "sword : 불꽃의 검\n",
      "armor : 풀플레이트\n",
      "skills : 베기\n",
      "skills : 세게 베기\n",
      "skills : 아주 세게 베기\n"
     ]
    }
   ],
   "source": [
    "character = {\n",
    "    \"name\" : \"기사\",\n",
    "    \"level\" : 12,\n",
    "    \"items\" : {\n",
    "        \"sword\" : \"불꽃의 검\",\n",
    "        \"armor\" : \"풀플레이트\"\n",
    "    },\n",
    "    \"skills\" : [\"베기\", \"세게 베기\", \"아주 세게 베기\"]\n",
    "}\n",
    "\n",
    "for key, value in character.items():\n",
    "    if type(value) == dict:\n",
    "        for k,w in value.items():\n",
    "            print(f\"{k} : {w}\")\n",
    "    elif type(value) == list:\n",
    "        for v in value:\n",
    "            print(f\"{key} : {v}\")\n",
    "    else:\n",
    "        print(f\"{key} : {value}\")"
   ]
  },
  {
   "cell_type": "code",
   "execution_count": 7,
   "metadata": {},
   "outputs": [
    {
     "name": "stdout",
     "output_type": "stream",
     "text": [
      "{'name': '기사', 'hp': 200, 'mp': 30, 'level': 5}\n"
     ]
    }
   ],
   "source": [
    "key_list = [\"name\", \"hp\", \"mp\", \"level\"]\n",
    "value_list = [\"기사\", 200, 30, 5]\n",
    "character = {}\n",
    "\n",
    "i = 0\n",
    "while i < len(key_list):\n",
    "    character[key_list[i]] = value_list[i]\n",
    "    i += 1\n",
    "# ⬇️동일 결과⬆️\n",
    "for i in range(len(key_list)):\n",
    "    character[key_list[i]] = value_list[i]\n",
    "\n",
    "print(character)       "
   ]
  },
  {
   "cell_type": "code",
   "execution_count": 18,
   "metadata": {},
   "outputs": [
    {
     "name": "stdout",
     "output_type": "stream",
     "text": [
      "4537를 더할 때 10289423를 넘으며 그때의 값은 10289916입니다.\n"
     ]
    }
   ],
   "source": [
    "limit = 10289423\n",
    "i = 1\n",
    "sum_value = 0\n",
    "\n",
    "while sum_value < limit:\n",
    "    sum_value += i\n",
    "    i+=1\n",
    "\n",
    "print(f\"{i}를 더할 때 {limit}를 넘으며 그때의 값은 {sum_value}입니다.\")"
   ]
  },
  {
   "cell_type": "code",
   "execution_count": 3,
   "metadata": {},
   "outputs": [
    {
     "name": "stdout",
     "output_type": "stream",
     "text": [
      "2 : 10\n",
      "5 : 101\n",
      "6 : 110\n",
      "11 : 1011\n",
      "13 : 1101\n",
      "14 : 1110\n",
      "23 : 10111\n",
      "27 : 11011\n",
      "29 : 11101\n",
      "30 : 11110\n",
      "47 : 101111\n",
      "55 : 110111\n",
      "59 : 111011\n",
      "61 : 111101\n",
      "62 : 111110\n",
      "95 : 1011111\n",
      "합계 : 539\n"
     ]
    }
   ],
   "source": [
    "output = [i for i in range(1,101) if '{:b}'.format(i).count('0')==1]\n",
    "\n",
    "for i in output:\n",
    "    print(f\"{i} : {'{:b}'.format(i)}\")\n",
    "\n",
    "print(f\"합계 : {sum(output)}\")"
   ]
  }
 ],
 "metadata": {
  "kernelspec": {
   "display_name": "Python 3.8.9 ('venv': venv)",
   "language": "python",
   "name": "python3"
  },
  "language_info": {
   "codemirror_mode": {
    "name": "ipython",
    "version": 3
   },
   "file_extension": ".py",
   "mimetype": "text/x-python",
   "name": "python",
   "nbconvert_exporter": "python",
   "pygments_lexer": "ipython3",
   "version": "3.8.9"
  },
  "orig_nbformat": 4,
  "vscode": {
   "interpreter": {
    "hash": "5ad2f0aac427d811f6da6c9394379851faf4e41bd85a9551b3e3a281e7f1b52f"
   }
  }
 },
 "nbformat": 4,
 "nbformat_minor": 2
}
